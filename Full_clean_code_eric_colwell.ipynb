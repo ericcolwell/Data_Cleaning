{
 "cells": [
  {
   "cell_type": "code",
   "execution_count": 1,
   "id": "47d4fb5a",
   "metadata": {},
   "outputs": [],
   "source": [
    "# Import pandas for manipulating numerical tables\n",
    "import pandas as pd\n",
    "\n",
    "# Import numpy for numerical calculations\n",
    "import numpy as np\n",
    "\n",
    "# Import matplotlib for plotting data\n",
    "import matplotlib.pyplot as plt\n",
    "%matplotlib inline\n",
    "\n",
    "# Import scipy-stats for statistical analysis and outlier detection\n",
    "from scipy import stats as st\n",
    "\n",
    "# Import missingno for visualizations\n",
    "import missingno as msno\n",
    "\n",
    "# Import IterativeImputer for imputations\n",
    "from fancyimpute import IterativeImputer\n",
    "\n",
    "# Import seaborn for visualiztions\n",
    "import seaborn as sns\n",
    "\n",
    "# Import PCA for principle component analysis\n",
    "from sklearn.decomposition import PCA\n",
    "\n",
    "# Import Counter for counting instances\n",
    "from collections import Counter"
   ]
  },
  {
   "cell_type": "code",
   "execution_count": 2,
   "id": "4f0911d9",
   "metadata": {},
   "outputs": [],
   "source": [
    "# Importing the churn dataset\n",
    "df = pd.read_csv('C:/users/eric7/D206/churn_database/churn_raw_data.csv')"
   ]
  },
  {
   "cell_type": "code",
   "execution_count": 3,
   "id": "b0511283",
   "metadata": {},
   "outputs": [
    {
     "data": {
      "text/html": [
       "<div>\n",
       "<style scoped>\n",
       "    .dataframe tbody tr th:only-of-type {\n",
       "        vertical-align: middle;\n",
       "    }\n",
       "\n",
       "    .dataframe tbody tr th {\n",
       "        vertical-align: top;\n",
       "    }\n",
       "\n",
       "    .dataframe thead th {\n",
       "        text-align: right;\n",
       "    }\n",
       "</style>\n",
       "<table border=\"1\" class=\"dataframe\">\n",
       "  <thead>\n",
       "    <tr style=\"text-align: right;\">\n",
       "      <th></th>\n",
       "      <th>Unnamed: 0</th>\n",
       "      <th>CaseOrder</th>\n",
       "      <th>Customer_id</th>\n",
       "      <th>Interaction</th>\n",
       "      <th>City</th>\n",
       "      <th>State</th>\n",
       "      <th>County</th>\n",
       "      <th>Zip</th>\n",
       "      <th>Lat</th>\n",
       "      <th>Lng</th>\n",
       "      <th>...</th>\n",
       "      <th>MonthlyCharge</th>\n",
       "      <th>Bandwidth_GB_Year</th>\n",
       "      <th>item1</th>\n",
       "      <th>item2</th>\n",
       "      <th>item3</th>\n",
       "      <th>item4</th>\n",
       "      <th>item5</th>\n",
       "      <th>item6</th>\n",
       "      <th>item7</th>\n",
       "      <th>item8</th>\n",
       "    </tr>\n",
       "  </thead>\n",
       "  <tbody>\n",
       "    <tr>\n",
       "      <th>0</th>\n",
       "      <td>1</td>\n",
       "      <td>1</td>\n",
       "      <td>K409198</td>\n",
       "      <td>aa90260b-4141-4a24-8e36-b04ce1f4f77b</td>\n",
       "      <td>Point Baker</td>\n",
       "      <td>AK</td>\n",
       "      <td>Prince of Wales-Hyder</td>\n",
       "      <td>99927</td>\n",
       "      <td>56.25100</td>\n",
       "      <td>-133.37571</td>\n",
       "      <td>...</td>\n",
       "      <td>171.449762</td>\n",
       "      <td>904.536110</td>\n",
       "      <td>5</td>\n",
       "      <td>5</td>\n",
       "      <td>5</td>\n",
       "      <td>3</td>\n",
       "      <td>4</td>\n",
       "      <td>4</td>\n",
       "      <td>3</td>\n",
       "      <td>4</td>\n",
       "    </tr>\n",
       "    <tr>\n",
       "      <th>1</th>\n",
       "      <td>2</td>\n",
       "      <td>2</td>\n",
       "      <td>S120509</td>\n",
       "      <td>fb76459f-c047-4a9d-8af9-e0f7d4ac2524</td>\n",
       "      <td>West Branch</td>\n",
       "      <td>MI</td>\n",
       "      <td>Ogemaw</td>\n",
       "      <td>48661</td>\n",
       "      <td>44.32893</td>\n",
       "      <td>-84.24080</td>\n",
       "      <td>...</td>\n",
       "      <td>242.948015</td>\n",
       "      <td>800.982766</td>\n",
       "      <td>3</td>\n",
       "      <td>4</td>\n",
       "      <td>3</td>\n",
       "      <td>3</td>\n",
       "      <td>4</td>\n",
       "      <td>3</td>\n",
       "      <td>4</td>\n",
       "      <td>4</td>\n",
       "    </tr>\n",
       "    <tr>\n",
       "      <th>2</th>\n",
       "      <td>3</td>\n",
       "      <td>3</td>\n",
       "      <td>K191035</td>\n",
       "      <td>344d114c-3736-4be5-98f7-c72c281e2d35</td>\n",
       "      <td>Yamhill</td>\n",
       "      <td>OR</td>\n",
       "      <td>Yamhill</td>\n",
       "      <td>97148</td>\n",
       "      <td>45.35589</td>\n",
       "      <td>-123.24657</td>\n",
       "      <td>...</td>\n",
       "      <td>159.440398</td>\n",
       "      <td>2054.706961</td>\n",
       "      <td>4</td>\n",
       "      <td>4</td>\n",
       "      <td>2</td>\n",
       "      <td>4</td>\n",
       "      <td>4</td>\n",
       "      <td>3</td>\n",
       "      <td>3</td>\n",
       "      <td>3</td>\n",
       "    </tr>\n",
       "    <tr>\n",
       "      <th>3</th>\n",
       "      <td>4</td>\n",
       "      <td>4</td>\n",
       "      <td>D90850</td>\n",
       "      <td>abfa2b40-2d43-4994-b15a-989b8c79e311</td>\n",
       "      <td>Del Mar</td>\n",
       "      <td>CA</td>\n",
       "      <td>San Diego</td>\n",
       "      <td>92014</td>\n",
       "      <td>32.96687</td>\n",
       "      <td>-117.24798</td>\n",
       "      <td>...</td>\n",
       "      <td>120.249493</td>\n",
       "      <td>2164.579412</td>\n",
       "      <td>4</td>\n",
       "      <td>4</td>\n",
       "      <td>4</td>\n",
       "      <td>2</td>\n",
       "      <td>5</td>\n",
       "      <td>4</td>\n",
       "      <td>3</td>\n",
       "      <td>3</td>\n",
       "    </tr>\n",
       "    <tr>\n",
       "      <th>4</th>\n",
       "      <td>5</td>\n",
       "      <td>5</td>\n",
       "      <td>K662701</td>\n",
       "      <td>68a861fd-0d20-4e51-a587-8a90407ee574</td>\n",
       "      <td>Needville</td>\n",
       "      <td>TX</td>\n",
       "      <td>Fort Bend</td>\n",
       "      <td>77461</td>\n",
       "      <td>29.38012</td>\n",
       "      <td>-95.80673</td>\n",
       "      <td>...</td>\n",
       "      <td>150.761216</td>\n",
       "      <td>271.493436</td>\n",
       "      <td>4</td>\n",
       "      <td>4</td>\n",
       "      <td>4</td>\n",
       "      <td>3</td>\n",
       "      <td>4</td>\n",
       "      <td>4</td>\n",
       "      <td>4</td>\n",
       "      <td>5</td>\n",
       "    </tr>\n",
       "  </tbody>\n",
       "</table>\n",
       "<p>5 rows × 52 columns</p>\n",
       "</div>"
      ],
      "text/plain": [
       "   Unnamed: 0  CaseOrder Customer_id                           Interaction  \\\n",
       "0           1          1     K409198  aa90260b-4141-4a24-8e36-b04ce1f4f77b   \n",
       "1           2          2     S120509  fb76459f-c047-4a9d-8af9-e0f7d4ac2524   \n",
       "2           3          3     K191035  344d114c-3736-4be5-98f7-c72c281e2d35   \n",
       "3           4          4      D90850  abfa2b40-2d43-4994-b15a-989b8c79e311   \n",
       "4           5          5     K662701  68a861fd-0d20-4e51-a587-8a90407ee574   \n",
       "\n",
       "          City State                 County    Zip       Lat        Lng  ...  \\\n",
       "0  Point Baker    AK  Prince of Wales-Hyder  99927  56.25100 -133.37571  ...   \n",
       "1  West Branch    MI                 Ogemaw  48661  44.32893  -84.24080  ...   \n",
       "2      Yamhill    OR                Yamhill  97148  45.35589 -123.24657  ...   \n",
       "3      Del Mar    CA              San Diego  92014  32.96687 -117.24798  ...   \n",
       "4    Needville    TX              Fort Bend  77461  29.38012  -95.80673  ...   \n",
       "\n",
       "   MonthlyCharge Bandwidth_GB_Year item1 item2  item3  item4 item5 item6  \\\n",
       "0     171.449762        904.536110     5     5      5      3     4     4   \n",
       "1     242.948015        800.982766     3     4      3      3     4     3   \n",
       "2     159.440398       2054.706961     4     4      2      4     4     3   \n",
       "3     120.249493       2164.579412     4     4      4      2     5     4   \n",
       "4     150.761216        271.493436     4     4      4      3     4     4   \n",
       "\n",
       "   item7 item8  \n",
       "0      3     4  \n",
       "1      4     4  \n",
       "2      3     3  \n",
       "3      3     3  \n",
       "4      4     5  \n",
       "\n",
       "[5 rows x 52 columns]"
      ]
     },
     "execution_count": 3,
     "metadata": {},
     "output_type": "execute_result"
    }
   ],
   "source": [
    "# Just checking to see if the data is there\n",
    "df.head()"
   ]
  },
  {
   "cell_type": "code",
   "execution_count": 4,
   "id": "6160ec37",
   "metadata": {},
   "outputs": [
    {
     "name": "stdout",
     "output_type": "stream",
     "text": [
      "(10000, 52)\n"
     ]
    }
   ],
   "source": [
    "# Check shape of df\n",
    "print(df.shape)\n",
    "# 10000 rows or instances and 52 columns or variables"
   ]
  },
  {
   "cell_type": "code",
   "execution_count": 5,
   "id": "2e17535f",
   "metadata": {},
   "outputs": [
    {
     "name": "stdout",
     "output_type": "stream",
     "text": [
      "<class 'pandas.core.frame.DataFrame'>\n",
      "RangeIndex: 10000 entries, 0 to 9999\n",
      "Data columns (total 52 columns):\n",
      " #   Column                Non-Null Count  Dtype  \n",
      "---  ------                --------------  -----  \n",
      " 0   Unnamed: 0            10000 non-null  int64  \n",
      " 1   CaseOrder             10000 non-null  int64  \n",
      " 2   Customer_id           10000 non-null  object \n",
      " 3   Interaction           10000 non-null  object \n",
      " 4   City                  10000 non-null  object \n",
      " 5   State                 10000 non-null  object \n",
      " 6   County                10000 non-null  object \n",
      " 7   Zip                   10000 non-null  int64  \n",
      " 8   Lat                   10000 non-null  float64\n",
      " 9   Lng                   10000 non-null  float64\n",
      " 10  Population            10000 non-null  int64  \n",
      " 11  Area                  10000 non-null  object \n",
      " 12  Timezone              10000 non-null  object \n",
      " 13  Job                   10000 non-null  object \n",
      " 14  Children              7505 non-null   float64\n",
      " 15  Age                   7525 non-null   float64\n",
      " 16  Education             10000 non-null  object \n",
      " 17  Employment            10000 non-null  object \n",
      " 18  Income                7510 non-null   float64\n",
      " 19  Marital               10000 non-null  object \n",
      " 20  Gender                10000 non-null  object \n",
      " 21  Churn                 10000 non-null  object \n",
      " 22  Outage_sec_perweek    10000 non-null  float64\n",
      " 23  Email                 10000 non-null  int64  \n",
      " 24  Contacts              10000 non-null  int64  \n",
      " 25  Yearly_equip_failure  10000 non-null  int64  \n",
      " 26  Techie                7523 non-null   object \n",
      " 27  Contract              10000 non-null  object \n",
      " 28  Port_modem            10000 non-null  object \n",
      " 29  Tablet                10000 non-null  object \n",
      " 30  InternetService       10000 non-null  object \n",
      " 31  Phone                 8974 non-null   object \n",
      " 32  Multiple              10000 non-null  object \n",
      " 33  OnlineSecurity        10000 non-null  object \n",
      " 34  OnlineBackup          10000 non-null  object \n",
      " 35  DeviceProtection      10000 non-null  object \n",
      " 36  TechSupport           9009 non-null   object \n",
      " 37  StreamingTV           10000 non-null  object \n",
      " 38  StreamingMovies       10000 non-null  object \n",
      " 39  PaperlessBilling      10000 non-null  object \n",
      " 40  PaymentMethod         10000 non-null  object \n",
      " 41  Tenure                9069 non-null   float64\n",
      " 42  MonthlyCharge         10000 non-null  float64\n",
      " 43  Bandwidth_GB_Year     8979 non-null   float64\n",
      " 44  item1                 10000 non-null  int64  \n",
      " 45  item2                 10000 non-null  int64  \n",
      " 46  item3                 10000 non-null  int64  \n",
      " 47  item4                 10000 non-null  int64  \n",
      " 48  item5                 10000 non-null  int64  \n",
      " 49  item6                 10000 non-null  int64  \n",
      " 50  item7                 10000 non-null  int64  \n",
      " 51  item8                 10000 non-null  int64  \n",
      "dtypes: float64(9), int64(15), object(28)\n",
      "memory usage: 4.0+ MB\n",
      "None\n"
     ]
    }
   ],
   "source": [
    "# Check df info\n",
    "print(df.info())"
   ]
  },
  {
   "cell_type": "code",
   "execution_count": 6,
   "id": "949c31bf",
   "metadata": {},
   "outputs": [
    {
     "data": {
      "text/plain": [
       "0"
      ]
     },
     "execution_count": 6,
     "metadata": {},
     "output_type": "execute_result"
    }
   ],
   "source": [
    "# Check for duplicates\n",
    "df.duplicated().sum()"
   ]
  },
  {
   "cell_type": "code",
   "execution_count": 7,
   "id": "845b9503",
   "metadata": {},
   "outputs": [
    {
     "name": "stdout",
     "output_type": "stream",
     "text": [
      "Unnamed: 0                 0\n",
      "CaseOrder                  0\n",
      "Customer_id                0\n",
      "Interaction                0\n",
      "City                       0\n",
      "State                      0\n",
      "County                     0\n",
      "Zip                        0\n",
      "Lat                        0\n",
      "Lng                        0\n",
      "Population                 0\n",
      "Area                       0\n",
      "Timezone                   0\n",
      "Job                        0\n",
      "Children                2495\n",
      "Age                     2475\n",
      "Education                  0\n",
      "Employment                 0\n",
      "Income                  2490\n",
      "Marital                    0\n",
      "Gender                     0\n",
      "Churn                      0\n",
      "Outage_sec_perweek         0\n",
      "Email                      0\n",
      "Contacts                   0\n",
      "Yearly_equip_failure       0\n",
      "Techie                  2477\n",
      "Contract                   0\n",
      "Port_modem                 0\n",
      "Tablet                     0\n",
      "InternetService            0\n",
      "Phone                   1026\n",
      "Multiple                   0\n",
      "OnlineSecurity             0\n",
      "OnlineBackup               0\n",
      "DeviceProtection           0\n",
      "TechSupport              991\n",
      "StreamingTV                0\n",
      "StreamingMovies            0\n",
      "PaperlessBilling           0\n",
      "PaymentMethod              0\n",
      "Tenure                   931\n",
      "MonthlyCharge              0\n",
      "Bandwidth_GB_Year       1021\n",
      "item1                      0\n",
      "item2                      0\n",
      "item3                      0\n",
      "item4                      0\n",
      "item5                      0\n",
      "item6                      0\n",
      "item7                      0\n",
      "item8                      0\n",
      "dtype: int64\n"
     ]
    }
   ],
   "source": [
    "# Check for null values\n",
    "print(df.isnull().sum())"
   ]
  },
  {
   "cell_type": "code",
   "execution_count": 8,
   "id": "2347cb57",
   "metadata": {},
   "outputs": [
    {
     "data": {
      "image/png": "[encoded data removed]",
      "text/plain": [
       "<Figure size 1800x720 with 2 Axes>"
      ]
     },
     "metadata": {
      "needs_background": "light"
     },
     "output_type": "display_data"
    }
   ],
   "source": [
    "# Visualize df for missingness\n",
    "msno.matrix(df, labels = True)\n",
    "plt.show()"
   ]
  },
  {
   "cell_type": "code",
   "execution_count": 9,
   "id": "8784d237",
   "metadata": {},
   "outputs": [],
   "source": [
    "# Create a copy of df\n",
    "df1 = df.copy()"
   ]
  },
  {
   "cell_type": "code",
   "execution_count": 10,
   "id": "522deaf8",
   "metadata": {},
   "outputs": [
    {
     "name": "stdout",
     "output_type": "stream",
     "text": [
      "[  601   610   647 ... 99923 99927 99929]\n"
     ]
    }
   ],
   "source": [
    "# Checking variables unique values for validity\n",
    "print(df1['Zip'].sort_values().unique())"
   ]
  },
  {
   "cell_type": "code",
   "execution_count": 11,
   "id": "74880923",
   "metadata": {},
   "outputs": [
    {
     "name": "stdout",
     "output_type": "stream",
     "text": [
      "['Rural' 'Suburban' 'Urban']\n"
     ]
    }
   ],
   "source": [
    "# Checking variables unique values for validity\n",
    "print(df1['Area'].sort_values().unique())"
   ]
  },
  {
   "cell_type": "code",
   "execution_count": 12,
   "id": "675ddddc",
   "metadata": {},
   "outputs": [
    {
     "name": "stdout",
     "output_type": "stream",
     "text": [
      "[ 0.  1.  2.  3.  4.  5.  6.  7.  8.  9. 10. nan]\n"
     ]
    }
   ],
   "source": [
    "# Checking variables unique values for validity\n",
    "print(df1['Children'].sort_values().unique())"
   ]
  },
  {
   "cell_type": "code",
   "execution_count": 13,
   "id": "f42befa0",
   "metadata": {},
   "outputs": [
    {
     "name": "stdout",
     "output_type": "stream",
     "text": [
      "[18. 19. 20. 21. 22. 23. 24. 25. 26. 27. 28. 29. 30. 31. 32. 33. 34. 35.\n",
      " 36. 37. 38. 39. 40. 41. 42. 43. 44. 45. 46. 47. 48. 49. 50. 51. 52. 53.\n",
      " 54. 55. 56. 57. 58. 59. 60. 61. 62. 63. 64. 65. 66. 67. 68. 69. 70. 71.\n",
      " 72. 73. 74. 75. 76. 77. 78. 79. 80. 81. 82. 83. 84. 85. 86. 87. 88. 89.\n",
      " nan]\n"
     ]
    }
   ],
   "source": [
    "# Checking variables unique values for validity\n",
    "print(df1['Age'].sort_values().unique())"
   ]
  },
  {
   "cell_type": "code",
   "execution_count": 14,
   "id": "1fc78891",
   "metadata": {},
   "outputs": [
    {
     "name": "stdout",
     "output_type": "stream",
     "text": [
      "['9th Grade to 12th Grade, No Diploma' \"Associate's Degree\"\n",
      " \"Bachelor's Degree\" 'Doctorate Degree' 'GED or Alternative Credential'\n",
      " \"Master's Degree\" 'No Schooling Completed' 'Nursery School to 8th Grade'\n",
      " 'Professional School Degree' 'Regular High School Diploma'\n",
      " 'Some College, 1 or More Years, No Degree'\n",
      " 'Some College, Less than 1 Year']\n"
     ]
    }
   ],
   "source": [
    "# Checking variables unique values for validity\n",
    "print(df1['Education'].sort_values().unique())"
   ]
  },
  {
   "cell_type": "code",
   "execution_count": 15,
   "id": "e8501b21",
   "metadata": {},
   "outputs": [
    {
     "name": "stdout",
     "output_type": "stream",
     "text": [
      "['Full Time' 'Part Time' 'Retired' 'Student' 'Unemployed']\n"
     ]
    }
   ],
   "source": [
    "# Checking variables unique values for validity\n",
    "print(df1['Employment'].sort_values().unique())"
   ]
  },
  {
   "cell_type": "code",
   "execution_count": 16,
   "id": "63762760",
   "metadata": {},
   "outputs": [
    {
     "name": "stdout",
     "output_type": "stream",
     "text": [
      "[   740.66    901.21    938.81 ... 256998.4  258900.7        nan]\n"
     ]
    }
   ],
   "source": [
    "# Checking variables unique values for validity\n",
    "print(df1['Income'].sort_values().unique())"
   ]
  },
  {
   "cell_type": "code",
   "execution_count": 17,
   "id": "f8e1f2f3",
   "metadata": {},
   "outputs": [
    {
     "name": "stdout",
     "output_type": "stream",
     "text": [
      "['Divorced' 'Married' 'Never Married' 'Separated' 'Widowed']\n"
     ]
    }
   ],
   "source": [
    "# Checking variables unique values for validity\n",
    "print(df1['Marital'].sort_values().unique())"
   ]
  },
  {
   "cell_type": "code",
   "execution_count": 18,
   "id": "6072289f",
   "metadata": {},
   "outputs": [
    {
     "name": "stdout",
     "output_type": "stream",
     "text": [
      "['Female' 'Male' 'Prefer not to answer']\n"
     ]
    }
   ],
   "source": [
    "# Checking variables unique values for validity\n",
    "print(df1['Gender'].sort_values().unique())"
   ]
  },
  {
   "cell_type": "code",
   "execution_count": 19,
   "id": "903869f4",
   "metadata": {},
   "outputs": [
    {
     "name": "stdout",
     "output_type": "stream",
     "text": [
      "['No' 'Yes']\n"
     ]
    }
   ],
   "source": [
    "# Checking variables unique values for validity\n",
    "print(df1['Churn'].sort_values().unique())"
   ]
  },
  {
   "cell_type": "code",
   "execution_count": 20,
   "id": "f1a0b494",
   "metadata": {},
   "outputs": [
    {
     "name": "stdout",
     "output_type": "stream",
     "text": [
      "[-1.348571   -1.19542834 -1.099934   ... 46.64180573 47.02766\n",
      " 47.04928   ]\n"
     ]
    }
   ],
   "source": [
    "# Checking variables unique values for validity\n",
    "print(df1['Outage_sec_perweek'].sort_values().unique())"
   ]
  },
  {
   "cell_type": "code",
   "execution_count": 21,
   "id": "d393586a",
   "metadata": {},
   "outputs": [
    {
     "name": "stdout",
     "output_type": "stream",
     "text": [
      "1904   -1.195428\n",
      "1997   -0.339214\n",
      "3069   -0.206145\n",
      "3629   -0.152845\n",
      "4167   -1.348571\n",
      "4184   -0.352431\n",
      "4427   -1.099934\n",
      "6093   -0.787115\n",
      "6463   -0.144644\n",
      "6577   -0.527396\n",
      "8194   -0.214328\n",
      "Name: Outage_sec_perweek, dtype: float64\n"
     ]
    },
    {
     "data": {
      "text/plain": [
       "11"
      ]
     },
     "execution_count": 21,
     "metadata": {},
     "output_type": "execute_result"
    }
   ],
   "source": [
    "# Find and count negative time values in Outage_sec_perweek\n",
    "neg_outage = df1.Outage_sec_perweek[df1.Outage_sec_perweek < 0]\n",
    "print(neg_outage)\n",
    "neg_outage.count()"
   ]
  },
  {
   "cell_type": "code",
   "execution_count": 22,
   "id": "356274a8",
   "metadata": {},
   "outputs": [
    {
     "name": "stderr",
     "output_type": "stream",
     "text": [
      "C:\\Users\\eric7\\AppData\\Local\\Temp/ipykernel_12360/1312198317.py:2: SettingWithCopyWarning: \n",
      "A value is trying to be set on a copy of a slice from a DataFrame\n",
      "\n",
      "See the caveats in the documentation: https://pandas.pydata.org/pandas-docs/stable/user_guide/indexing.html#returning-a-view-versus-a-copy\n",
      "  df1.Outage_sec_perweek[df1.Outage_sec_perweek < 0] = np.nan\n"
     ]
    }
   ],
   "source": [
    "# Make the bad values NaN\n",
    "df1.Outage_sec_perweek[df1.Outage_sec_perweek < 0] = np.nan"
   ]
  },
  {
   "cell_type": "code",
   "execution_count": 23,
   "id": "e7cd0449",
   "metadata": {},
   "outputs": [],
   "source": [
    "# Drop the bad values from df\n",
    "df1 = df1.dropna(subset = ['Outage_sec_perweek'])"
   ]
  },
  {
   "cell_type": "code",
   "execution_count": 24,
   "id": "f1445e8c",
   "metadata": {},
   "outputs": [
    {
     "name": "stdout",
     "output_type": "stream",
     "text": [
      "<class 'pandas.core.frame.DataFrame'>\n",
      "Int64Index: 9989 entries, 0 to 9999\n",
      "Data columns (total 52 columns):\n",
      " #   Column                Non-Null Count  Dtype  \n",
      "---  ------                --------------  -----  \n",
      " 0   Unnamed: 0            9989 non-null   int64  \n",
      " 1   CaseOrder             9989 non-null   int64  \n",
      " 2   Customer_id           9989 non-null   object \n",
      " 3   Interaction           9989 non-null   object \n",
      " 4   City                  9989 non-null   object \n",
      " 5   State                 9989 non-null   object \n",
      " 6   County                9989 non-null   object \n",
      " 7   Zip                   9989 non-null   int64  \n",
      " 8   Lat                   9989 non-null   float64\n",
      " 9   Lng                   9989 non-null   float64\n",
      " 10  Population            9989 non-null   int64  \n",
      " 11  Area                  9989 non-null   object \n",
      " 12  Timezone              9989 non-null   object \n",
      " 13  Job                   9989 non-null   object \n",
      " 14  Children              7495 non-null   float64\n",
      " 15  Age                   7517 non-null   float64\n",
      " 16  Education             9989 non-null   object \n",
      " 17  Employment            9989 non-null   object \n",
      " 18  Income                7501 non-null   float64\n",
      " 19  Marital               9989 non-null   object \n",
      " 20  Gender                9989 non-null   object \n",
      " 21  Churn                 9989 non-null   object \n",
      " 22  Outage_sec_perweek    9989 non-null   float64\n",
      " 23  Email                 9989 non-null   int64  \n",
      " 24  Contacts              9989 non-null   int64  \n",
      " 25  Yearly_equip_failure  9989 non-null   int64  \n",
      " 26  Techie                7513 non-null   object \n",
      " 27  Contract              9989 non-null   object \n",
      " 28  Port_modem            9989 non-null   object \n",
      " 29  Tablet                9989 non-null   object \n",
      " 30  InternetService       9989 non-null   object \n",
      " 31  Phone                 8964 non-null   object \n",
      " 32  Multiple              9989 non-null   object \n",
      " 33  OnlineSecurity        9989 non-null   object \n",
      " 34  OnlineBackup          9989 non-null   object \n",
      " 35  DeviceProtection      9989 non-null   object \n",
      " 36  TechSupport           8999 non-null   object \n",
      " 37  StreamingTV           9989 non-null   object \n",
      " 38  StreamingMovies       9989 non-null   object \n",
      " 39  PaperlessBilling      9989 non-null   object \n",
      " 40  PaymentMethod         9989 non-null   object \n",
      " 41  Tenure                9058 non-null   float64\n",
      " 42  MonthlyCharge         9989 non-null   float64\n",
      " 43  Bandwidth_GB_Year     8969 non-null   float64\n",
      " 44  item1                 9989 non-null   int64  \n",
      " 45  item2                 9989 non-null   int64  \n",
      " 46  item3                 9989 non-null   int64  \n",
      " 47  item4                 9989 non-null   int64  \n",
      " 48  item5                 9989 non-null   int64  \n",
      " 49  item6                 9989 non-null   int64  \n",
      " 50  item7                 9989 non-null   int64  \n",
      " 51  item8                 9989 non-null   int64  \n",
      "dtypes: float64(9), int64(15), object(28)\n",
      "memory usage: 4.0+ MB\n"
     ]
    }
   ],
   "source": [
    "# Check to see if they are gone. We have 11 less instances now\n",
    "df1.info()"
   ]
  },
  {
   "cell_type": "code",
   "execution_count": 25,
   "id": "99c97f09",
   "metadata": {},
   "outputs": [
    {
     "name": "stdout",
     "output_type": "stream",
     "text": [
      "[ 1  2  3  4  5  6  7  8  9 10 11 12 13 14 15 16 17 18 19 20 21 22 23]\n"
     ]
    }
   ],
   "source": [
    "# Checking variables unique values for validity\n",
    "print(df1['Email'].sort_values().unique())"
   ]
  },
  {
   "cell_type": "code",
   "execution_count": 26,
   "id": "b20c1225",
   "metadata": {},
   "outputs": [
    {
     "name": "stdout",
     "output_type": "stream",
     "text": [
      "[0 1 2 3 4 5 6 7]\n"
     ]
    }
   ],
   "source": [
    "# Checking variables unique values for validity\n",
    "print(df1['Contacts'].sort_values().unique())"
   ]
  },
  {
   "cell_type": "code",
   "execution_count": 27,
   "id": "a266ad53",
   "metadata": {},
   "outputs": [
    {
     "name": "stdout",
     "output_type": "stream",
     "text": [
      "[0 1 2 3 4 6]\n"
     ]
    }
   ],
   "source": [
    "# Checking variables unique values for validity\n",
    "print(df1['Yearly_equip_failure'].sort_values().unique())"
   ]
  },
  {
   "cell_type": "code",
   "execution_count": 28,
   "id": "c9f14800",
   "metadata": {},
   "outputs": [
    {
     "name": "stdout",
     "output_type": "stream",
     "text": [
      "['No' 'Yes' nan]\n"
     ]
    }
   ],
   "source": [
    "# Checking variables unique values for validity\n",
    "print(df1['Techie'].sort_values().unique())"
   ]
  },
  {
   "cell_type": "code",
   "execution_count": 29,
   "id": "8e9cc309",
   "metadata": {},
   "outputs": [
    {
     "name": "stdout",
     "output_type": "stream",
     "text": [
      "['Month-to-month' 'One year' 'Two Year']\n"
     ]
    }
   ],
   "source": [
    "# Checking variables unique values for validity\n",
    "print(df1['Contract'].sort_values().unique())"
   ]
  },
  {
   "cell_type": "code",
   "execution_count": 30,
   "id": "48eb24b2",
   "metadata": {},
   "outputs": [
    {
     "name": "stdout",
     "output_type": "stream",
     "text": [
      "['No' 'Yes']\n"
     ]
    }
   ],
   "source": [
    "# Checking variables unique values for validity\n",
    "print(df1['Port_modem'].sort_values().unique())"
   ]
  },
  {
   "cell_type": "code",
   "execution_count": 31,
   "id": "3ab1d443",
   "metadata": {},
   "outputs": [
    {
     "name": "stdout",
     "output_type": "stream",
     "text": [
      "['No' 'Yes']\n"
     ]
    }
   ],
   "source": [
    "# Checking variables unique values for validity\n",
    "print(df1['Tablet'].sort_values().unique())"
   ]
  },
  {
   "cell_type": "code",
   "execution_count": 32,
   "id": "a7de9571",
   "metadata": {},
   "outputs": [
    {
     "name": "stdout",
     "output_type": "stream",
     "text": [
      "['DSL' 'Fiber Optic' 'None']\n"
     ]
    }
   ],
   "source": [
    "# Checking variables unique values for validity\n",
    "print(df1['InternetService'].sort_values().unique())"
   ]
  },
  {
   "cell_type": "code",
   "execution_count": 33,
   "id": "c2d83d16",
   "metadata": {},
   "outputs": [
    {
     "name": "stdout",
     "output_type": "stream",
     "text": [
      "['No' 'Yes' nan]\n"
     ]
    }
   ],
   "source": [
    "# Checking variables unique values for validity\n",
    "print(df1['Phone'].sort_values().unique())"
   ]
  },
  {
   "cell_type": "code",
   "execution_count": 34,
   "id": "122a8ca0",
   "metadata": {},
   "outputs": [
    {
     "name": "stdout",
     "output_type": "stream",
     "text": [
      "['No' 'Yes']\n"
     ]
    }
   ],
   "source": [
    "# Checking variables unique values for validity\n",
    "print(df1['Multiple'].sort_values().unique())"
   ]
  },
  {
   "cell_type": "code",
   "execution_count": 35,
   "id": "f378d008",
   "metadata": {},
   "outputs": [
    {
     "name": "stdout",
     "output_type": "stream",
     "text": [
      "['No' 'Yes']\n"
     ]
    }
   ],
   "source": [
    "# Checking variables unique values for validity\n",
    "print(df1['OnlineSecurity'].sort_values().unique())"
   ]
  },
  {
   "cell_type": "code",
   "execution_count": 36,
   "id": "cbc8d05b",
   "metadata": {},
   "outputs": [
    {
     "name": "stdout",
     "output_type": "stream",
     "text": [
      "['No' 'Yes']\n"
     ]
    }
   ],
   "source": [
    "# Checking variables unique values for validity\n",
    "print(df1['OnlineBackup'].sort_values().unique())"
   ]
  },
  {
   "cell_type": "code",
   "execution_count": 37,
   "id": "a504fa59",
   "metadata": {},
   "outputs": [
    {
     "name": "stdout",
     "output_type": "stream",
     "text": [
      "['No' 'Yes']\n"
     ]
    }
   ],
   "source": [
    "# Checking variables unique values for validity\n",
    "print(df1['DeviceProtection'].sort_values().unique())"
   ]
  },
  {
   "cell_type": "code",
   "execution_count": 38,
   "id": "3cd3bad6",
   "metadata": {},
   "outputs": [
    {
     "name": "stdout",
     "output_type": "stream",
     "text": [
      "['No' 'Yes' nan]\n"
     ]
    }
   ],
   "source": [
    "# Checking variables unique values for validity\n",
    "print(df1['TechSupport'].sort_values().unique())"
   ]
  },
  {
   "cell_type": "code",
   "execution_count": 39,
   "id": "b3ff9c50",
   "metadata": {},
   "outputs": [
    {
     "name": "stdout",
     "output_type": "stream",
     "text": [
      "['No' 'Yes']\n"
     ]
    }
   ],
   "source": [
    "# Checking variables unique values for validity\n",
    "print(df1['StreamingTV'].sort_values().unique())"
   ]
  },
  {
   "cell_type": "code",
   "execution_count": 40,
   "id": "325ed145",
   "metadata": {},
   "outputs": [
    {
     "name": "stdout",
     "output_type": "stream",
     "text": [
      "['No' 'Yes']\n"
     ]
    }
   ],
   "source": [
    "# Checking variables unique values for validity\n",
    "print(df1['StreamingMovies'].sort_values().unique())"
   ]
  },
  {
   "cell_type": "code",
   "execution_count": 41,
   "id": "6a73c9df",
   "metadata": {},
   "outputs": [
    {
     "name": "stdout",
     "output_type": "stream",
     "text": [
      "['No' 'Yes']\n"
     ]
    }
   ],
   "source": [
    "# Checking variables unique values for validity\n",
    "print(df1['PaperlessBilling'].sort_values().unique())"
   ]
  },
  {
   "cell_type": "code",
   "execution_count": 42,
   "id": "1dbe01f4",
   "metadata": {},
   "outputs": [
    {
     "name": "stdout",
     "output_type": "stream",
     "text": [
      "['Bank Transfer(automatic)' 'Credit Card (automatic)' 'Electronic Check'\n",
      " 'Mailed Check']\n"
     ]
    }
   ],
   "source": [
    "# Checking variables unique values for validity\n",
    "print(df1['PaymentMethod'].sort_values().unique())"
   ]
  },
  {
   "cell_type": "code",
   "execution_count": 43,
   "id": "127a34ca",
   "metadata": {},
   "outputs": [
    {
     "name": "stdout",
     "output_type": "stream",
     "text": [
      "[ 1.00025934  1.005104    1.0185196  ... 71.99418    71.99928\n",
      "         nan]\n"
     ]
    }
   ],
   "source": [
    "# Checking variables unique values for validity\n",
    "print(df1['Tenure'].sort_values().unique())"
   ]
  },
  {
   "cell_type": "code",
   "execution_count": 44,
   "id": "76734a81",
   "metadata": {},
   "outputs": [
    {
     "name": "stdout",
     "output_type": "stream",
     "text": [
      "[ 77.50523    77.92452    78.05288   ... 306.268     307.5281242\n",
      " 315.8786   ]\n"
     ]
    }
   ],
   "source": [
    "# Checking variables unique values for validity\n",
    "print(df1['MonthlyCharge'].sort_values().unique())"
   ]
  },
  {
   "cell_type": "code",
   "execution_count": 45,
   "id": "d3847a1d",
   "metadata": {},
   "outputs": [
    {
     "name": "stdout",
     "output_type": "stream",
     "text": [
      "[ 155.5067148  169.3992798  223.4765826 ... 7138.309     7158.982\n",
      "          nan]\n"
     ]
    }
   ],
   "source": [
    "# Checking variables unique values for validity\n",
    "print(df1['Bandwidth_GB_Year'].sort_values().unique())"
   ]
  },
  {
   "cell_type": "code",
   "execution_count": 46,
   "id": "065158be",
   "metadata": {},
   "outputs": [
    {
     "name": "stdout",
     "output_type": "stream",
     "text": [
      "[1 2 3 4 5 6 7]\n"
     ]
    }
   ],
   "source": [
    "# Checking variables unique values for validity\n",
    "print(df1['item1'].sort_values().unique())"
   ]
  },
  {
   "cell_type": "code",
   "execution_count": 47,
   "id": "679a66f5",
   "metadata": {},
   "outputs": [
    {
     "name": "stdout",
     "output_type": "stream",
     "text": [
      "[1 2 3 4 5 6 7]\n"
     ]
    }
   ],
   "source": [
    "# Checking variables unique values for validity\n",
    "print(df1['item2'].sort_values().unique())"
   ]
  },
  {
   "cell_type": "code",
   "execution_count": 48,
   "id": "4bbbfe63",
   "metadata": {},
   "outputs": [
    {
     "name": "stdout",
     "output_type": "stream",
     "text": [
      "[1 2 3 4 5 6 7 8]\n"
     ]
    }
   ],
   "source": [
    "# Checking variables unique values for validity\n",
    "print(df1['item3'].sort_values().unique())"
   ]
  },
  {
   "cell_type": "code",
   "execution_count": 49,
   "id": "47c2c5ca",
   "metadata": {},
   "outputs": [
    {
     "name": "stdout",
     "output_type": "stream",
     "text": [
      "[1 2 3 4 5 6 7]\n"
     ]
    }
   ],
   "source": [
    "# Checking variables unique values for validity\n",
    "print(df1['item4'].sort_values().unique())"
   ]
  },
  {
   "cell_type": "code",
   "execution_count": 50,
   "id": "ea599b08",
   "metadata": {},
   "outputs": [
    {
     "name": "stdout",
     "output_type": "stream",
     "text": [
      "[1 2 3 4 5 6 7]\n"
     ]
    }
   ],
   "source": [
    "# Checking variables unique values for validity\n",
    "print(df1['item5'].sort_values().unique())"
   ]
  },
  {
   "cell_type": "code",
   "execution_count": 51,
   "id": "2d4db1a1",
   "metadata": {},
   "outputs": [
    {
     "name": "stdout",
     "output_type": "stream",
     "text": [
      "[1 2 3 4 5 6 7 8]\n"
     ]
    }
   ],
   "source": [
    "# Checking variables unique values for validity\n",
    "print(df1['item6'].sort_values().unique())"
   ]
  },
  {
   "cell_type": "code",
   "execution_count": 52,
   "id": "9631eed2",
   "metadata": {},
   "outputs": [
    {
     "name": "stdout",
     "output_type": "stream",
     "text": [
      "[1 2 3 4 5 6 7]\n"
     ]
    }
   ],
   "source": [
    "# Checking variables unique values for validity\n",
    "print(df1['item7'].sort_values().unique())"
   ]
  },
  {
   "cell_type": "code",
   "execution_count": 53,
   "id": "da6e40cf",
   "metadata": {},
   "outputs": [
    {
     "name": "stdout",
     "output_type": "stream",
     "text": [
      "[1 2 3 4 5 6 7 8]\n"
     ]
    }
   ],
   "source": [
    "# Checking variables unique values for validity\n",
    "print(df1['item8'].sort_values().unique())"
   ]
  },
  {
   "cell_type": "code",
   "execution_count": 54,
   "id": "5b7e2315",
   "metadata": {},
   "outputs": [
    {
     "data": {
      "text/plain": [
       "<AxesSubplot:>"
      ]
     },
     "execution_count": 54,
     "metadata": {},
     "output_type": "execute_result"
    },
    {
     "data": {
      "image/png": "[encoded data removed]",
      "text/plain": [
       "<Figure size 1440x864 with 2 Axes>"
      ]
     },
     "metadata": {
      "needs_background": "light"
     },
     "output_type": "display_data"
    }
   ],
   "source": [
    "# Check for correlation of missingness\n",
    "msno.heatmap(df1)"
   ]
  },
  {
   "cell_type": "code",
   "execution_count": 55,
   "id": "52bfe3e7",
   "metadata": {},
   "outputs": [
    {
     "data": {
      "text/plain": [
       "Unnamed: 0                 0\n",
       "CaseOrder                  0\n",
       "Customer_id                0\n",
       "Interaction                0\n",
       "City                       0\n",
       "State                      0\n",
       "County                     0\n",
       "Zip                        0\n",
       "Lat                        0\n",
       "Lng                        0\n",
       "Population                 0\n",
       "Area                       0\n",
       "Timezone                   0\n",
       "Job                        0\n",
       "Children                2494\n",
       "Age                     2472\n",
       "Education                  0\n",
       "Employment                 0\n",
       "Income                  2488\n",
       "Marital                    0\n",
       "Gender                     0\n",
       "Churn                      0\n",
       "Outage_sec_perweek         0\n",
       "Email                      0\n",
       "Contacts                   0\n",
       "Yearly_equip_failure       0\n",
       "Techie                  2476\n",
       "Contract                   0\n",
       "Port_modem                 0\n",
       "Tablet                     0\n",
       "InternetService            0\n",
       "Phone                   1025\n",
       "Multiple                   0\n",
       "OnlineSecurity             0\n",
       "OnlineBackup               0\n",
       "DeviceProtection           0\n",
       "TechSupport              990\n",
       "StreamingTV                0\n",
       "StreamingMovies            0\n",
       "PaperlessBilling           0\n",
       "PaymentMethod              0\n",
       "Tenure                   931\n",
       "MonthlyCharge              0\n",
       "Bandwidth_GB_Year       1020\n",
       "item1                      0\n",
       "item2                      0\n",
       "item3                      0\n",
       "item4                      0\n",
       "item5                      0\n",
       "item6                      0\n",
       "item7                      0\n",
       "item8                      0\n",
       "dtype: int64"
      ]
     },
     "execution_count": 55,
     "metadata": {},
     "output_type": "execute_result"
    }
   ],
   "source": [
    "# Check the null values--Outage_sec_perweek should be 0\n",
    "df1.isnull().sum()"
   ]
  },
  {
   "cell_type": "code",
   "execution_count": 56,
   "id": "ff3de5dc",
   "metadata": {},
   "outputs": [],
   "source": [
    "# Make a copy of df1\n",
    "df_it_imp = df1.copy()"
   ]
  },
  {
   "cell_type": "code",
   "execution_count": 57,
   "id": "02092f88",
   "metadata": {},
   "outputs": [],
   "source": [
    "# Separate the non_numeric type columns\n",
    "non_numeric_cols = df_it_imp.select_dtypes(exclude='number')"
   ]
  },
  {
   "cell_type": "code",
   "execution_count": 58,
   "id": "7d9a5709",
   "metadata": {},
   "outputs": [],
   "source": [
    "# Drop the non_numeric columns from the copied df\n",
    "df_it_imp.drop(non_numeric_cols, axis=1, inplace=True)"
   ]
  },
  {
   "cell_type": "code",
   "execution_count": 59,
   "id": "9e103dd6",
   "metadata": {},
   "outputs": [],
   "source": [
    "# Create Imputer object with minimum value set to zero for no negative values\n",
    "iterative_imputer = IterativeImputer(min_value = 0)"
   ]
  },
  {
   "cell_type": "code",
   "execution_count": 60,
   "id": "b5cf6970",
   "metadata": {},
   "outputs": [],
   "source": [
    "# Impute on numeric columns\n",
    "df_it_imp.iloc[:, :] = iterative_imputer.fit_transform(df_it_imp)"
   ]
  },
  {
   "cell_type": "code",
   "execution_count": 61,
   "id": "9058f1e5",
   "metadata": {},
   "outputs": [
    {
     "data": {
      "text/plain": [
       "Unnamed: 0              0\n",
       "CaseOrder               0\n",
       "Zip                     0\n",
       "Lat                     0\n",
       "Lng                     0\n",
       "Population              0\n",
       "Children                0\n",
       "Age                     0\n",
       "Income                  0\n",
       "Outage_sec_perweek      0\n",
       "Email                   0\n",
       "Contacts                0\n",
       "Yearly_equip_failure    0\n",
       "Tenure                  0\n",
       "MonthlyCharge           0\n",
       "Bandwidth_GB_Year       0\n",
       "item1                   0\n",
       "item2                   0\n",
       "item3                   0\n",
       "item4                   0\n",
       "item5                   0\n",
       "item6                   0\n",
       "item7                   0\n",
       "item8                   0\n",
       "dtype: int64"
      ]
     },
     "execution_count": 61,
     "metadata": {},
     "output_type": "execute_result"
    }
   ],
   "source": [
    "# Check for null values in numeric columns--Should all be 0\n",
    "df_it_imp.isna().sum()"
   ]
  },
  {
   "cell_type": "code",
   "execution_count": 62,
   "id": "3dd1413e",
   "metadata": {},
   "outputs": [],
   "source": [
    "# Place the cleaned numeric columns back into df1\n",
    "df1['Children'] = df_it_imp['Children']\n",
    "df1['Age'] = df_it_imp['Age']\n",
    "df1['Income'] = df_it_imp['Income']\n",
    "df1['Tenure'] = df_it_imp['Tenure']\n",
    "df1['Bandwidth_GB_Year'] = df_it_imp['Bandwidth_GB_Year']"
   ]
  },
  {
   "cell_type": "code",
   "execution_count": 63,
   "id": "3a43bac9",
   "metadata": {
    "scrolled": true
   },
   "outputs": [
    {
     "data": {
      "text/plain": [
       "Unnamed: 0                 0\n",
       "CaseOrder                  0\n",
       "Customer_id                0\n",
       "Interaction                0\n",
       "City                       0\n",
       "State                      0\n",
       "County                     0\n",
       "Zip                        0\n",
       "Lat                        0\n",
       "Lng                        0\n",
       "Population                 0\n",
       "Area                       0\n",
       "Timezone                   0\n",
       "Job                        0\n",
       "Children                   0\n",
       "Age                        0\n",
       "Education                  0\n",
       "Employment                 0\n",
       "Income                     0\n",
       "Marital                    0\n",
       "Gender                     0\n",
       "Churn                      0\n",
       "Outage_sec_perweek         0\n",
       "Email                      0\n",
       "Contacts                   0\n",
       "Yearly_equip_failure       0\n",
       "Techie                  2476\n",
       "Contract                   0\n",
       "Port_modem                 0\n",
       "Tablet                     0\n",
       "InternetService            0\n",
       "Phone                   1025\n",
       "Multiple                   0\n",
       "OnlineSecurity             0\n",
       "OnlineBackup               0\n",
       "DeviceProtection           0\n",
       "TechSupport              990\n",
       "StreamingTV                0\n",
       "StreamingMovies            0\n",
       "PaperlessBilling           0\n",
       "PaymentMethod              0\n",
       "Tenure                     0\n",
       "MonthlyCharge              0\n",
       "Bandwidth_GB_Year          0\n",
       "item1                      0\n",
       "item2                      0\n",
       "item3                      0\n",
       "item4                      0\n",
       "item5                      0\n",
       "item6                      0\n",
       "item7                      0\n",
       "item8                      0\n",
       "dtype: int64"
      ]
     },
     "execution_count": 63,
     "metadata": {},
     "output_type": "execute_result"
    }
   ],
   "source": [
    "# Check full df for nullity--Should just be categorical variable nullity\n",
    "df1.isna().sum()"
   ]
  },
  {
   "cell_type": "code",
   "execution_count": 64,
   "id": "3a4144bf",
   "metadata": {},
   "outputs": [],
   "source": [
    "# Make a copy for mean and median imputation visualizations\n",
    "df_imp = df.copy()"
   ]
  },
  {
   "cell_type": "code",
   "execution_count": 65,
   "id": "05baec5c",
   "metadata": {},
   "outputs": [
    {
     "name": "stdout",
     "output_type": "stream",
     "text": [
      "[ 0.          0.46076923  0.54601987 ...  8.          9.\n",
      " 10.        ]\n"
     ]
    }
   ],
   "source": [
    "# Checking variables unique values for validity\n",
    "print(df1['Children'].sort_values().unique())"
   ]
  },
  {
   "cell_type": "code",
   "execution_count": 66,
   "id": "86e19c3d",
   "metadata": {},
   "outputs": [],
   "source": [
    "# round the children variable to whole numbers\n",
    "# because it is a discrete variable\n",
    "df1['Children'] = round(df1['Children'])"
   ]
  },
  {
   "cell_type": "code",
   "execution_count": 67,
   "id": "dd885e51",
   "metadata": {},
   "outputs": [
    {
     "name": "stdout",
     "output_type": "stream",
     "text": [
      "[ 0.  1.  2.  3.  4.  5.  6.  7.  8.  9. 10.]\n"
     ]
    }
   ],
   "source": [
    "# Check to make sure it worked\n",
    "print(df1['Children'].sort_values().unique())"
   ]
  },
  {
   "cell_type": "code",
   "execution_count": 68,
   "id": "b7c2361a",
   "metadata": {},
   "outputs": [
    {
     "data": {
      "text/plain": [
       "Text(0.5, 1.0, 'Children Before Imputation')"
      ]
     },
     "execution_count": 68,
     "metadata": {},
     "output_type": "execute_result"
    },
    {
     "data": {
      "image/png": "[encoded data removed]",
      "text/plain": [
       "<Figure size 432x288 with 1 Axes>"
      ]
     },
     "metadata": {
      "needs_background": "light"
     },
     "output_type": "display_data"
    }
   ],
   "source": [
    "# Comparing histograms before and after imputation\n",
    "# Original with null values\n",
    "plt.hist(df['Children'])\n",
    "plt.title('Children Before Imputation')"
   ]
  },
  {
   "cell_type": "code",
   "execution_count": 69,
   "id": "76ef0451",
   "metadata": {},
   "outputs": [],
   "source": [
    "# Median imputation\n",
    "df_imp['Children'].fillna(df_imp['Children'].median(), inplace=True)"
   ]
  },
  {
   "cell_type": "code",
   "execution_count": 70,
   "id": "7240ebe3",
   "metadata": {},
   "outputs": [
    {
     "data": {
      "text/plain": [
       "Text(0.5, 1.0, 'Children After Median Imputation')"
      ]
     },
     "execution_count": 70,
     "metadata": {},
     "output_type": "execute_result"
    },
    {
     "data": {
      "image/png": "[encoded data removed]",
      "text/plain": [
       "<Figure size 432x288 with 1 Axes>"
      ]
     },
     "metadata": {
      "needs_background": "light"
     },
     "output_type": "display_data"
    }
   ],
   "source": [
    "# Comparing histograms before and after imputation\n",
    "# Using median because the original histogram distribution is skewed\n",
    "plt.hist(df_imp['Children'])\n",
    "plt.title('Children After Median Imputation')"
   ]
  },
  {
   "cell_type": "code",
   "execution_count": 71,
   "id": "15cfdd49",
   "metadata": {},
   "outputs": [
    {
     "data": {
      "text/plain": [
       "Text(0.5, 1.0, 'Children After Iterative Imputation')"
      ]
     },
     "execution_count": 71,
     "metadata": {},
     "output_type": "execute_result"
    },
    {
     "data": {
      "image/png": "[encoded data removed]",
      "text/plain": [
       "<Figure size 432x288 with 1 Axes>"
      ]
     },
     "metadata": {
      "needs_background": "light"
     },
     "output_type": "display_data"
    }
   ],
   "source": [
    "# Comparing histograms before and after imputation\n",
    "plt.hist(df1['Children'])\n",
    "plt.title('Children After Iterative Imputation')"
   ]
  },
  {
   "cell_type": "code",
   "execution_count": 72,
   "id": "7c9b9207",
   "metadata": {},
   "outputs": [
    {
     "data": {
      "text/plain": [
       "Text(0.5, 1.0, 'Age Before Imputation')"
      ]
     },
     "execution_count": 72,
     "metadata": {},
     "output_type": "execute_result"
    },
    {
     "data": {
      "image/png": "[encoded data removed]",
      "text/plain": [
       "<Figure size 432x288 with 1 Axes>"
      ]
     },
     "metadata": {
      "needs_background": "light"
     },
     "output_type": "display_data"
    }
   ],
   "source": [
    "# Comparing histograms before and after imputation\n",
    "# Original with null values\n",
    "plt.hist(df['Age'])\n",
    "plt.title('Age Before Imputation')"
   ]
  },
  {
   "cell_type": "code",
   "execution_count": 73,
   "id": "4bdac24c",
   "metadata": {},
   "outputs": [],
   "source": [
    "# Mean imputation\n",
    "df_imp['Age'].fillna(df_imp['Age'].mean(), inplace=True)"
   ]
  },
  {
   "cell_type": "code",
   "execution_count": 74,
   "id": "d657e594",
   "metadata": {},
   "outputs": [
    {
     "data": {
      "text/plain": [
       "Text(0.5, 1.0, 'Age After Mean Imputation')"
      ]
     },
     "execution_count": 74,
     "metadata": {},
     "output_type": "execute_result"
    },
    {
     "data": {
      "image/png": "[encoded data removed]",
      "text/plain": [
       "<Figure size 432x288 with 1 Axes>"
      ]
     },
     "metadata": {
      "needs_background": "light"
     },
     "output_type": "display_data"
    }
   ],
   "source": [
    "# Comparing histograms before and after imputation\n",
    "# Using mean because the original histogram distribution is uniform\n",
    "plt.hist(df_imp['Age'])\n",
    "plt.title('Age After Mean Imputation')"
   ]
  },
  {
   "cell_type": "code",
   "execution_count": 75,
   "id": "fbd3a4a9",
   "metadata": {},
   "outputs": [
    {
     "data": {
      "text/plain": [
       "Text(0.5, 1.0, 'Age After Iterative Imputation')"
      ]
     },
     "execution_count": 75,
     "metadata": {},
     "output_type": "execute_result"
    },
    {
     "data": {
      "image/png": "[encoded data removed]",
      "text/plain": [
       "<Figure size 432x288 with 1 Axes>"
      ]
     },
     "metadata": {
      "needs_background": "light"
     },
     "output_type": "display_data"
    }
   ],
   "source": [
    "# Comparing histograms before and after imputation\n",
    "plt.hist(df1['Age'])\n",
    "plt.title('Age After Iterative Imputation')"
   ]
  },
  {
   "cell_type": "code",
   "execution_count": 76,
   "id": "b4a1956d",
   "metadata": {},
   "outputs": [
    {
     "data": {
      "text/plain": [
       "Text(0.5, 1.0, 'Income Before Imputation')"
      ]
     },
     "execution_count": 76,
     "metadata": {},
     "output_type": "execute_result"
    },
    {
     "data": {
      "image/png": "[encoded data removed]",
      "text/plain": [
       "<Figure size 432x288 with 1 Axes>"
      ]
     },
     "metadata": {
      "needs_background": "light"
     },
     "output_type": "display_data"
    }
   ],
   "source": [
    "# Comparing histograms before and after imputation\n",
    "# Original with null values\n",
    "plt.hist(df['Income'])\n",
    "plt.title('Income Before Imputation')"
   ]
  },
  {
   "cell_type": "code",
   "execution_count": 77,
   "id": "8bea743a",
   "metadata": {},
   "outputs": [],
   "source": [
    "# Median imputation\n",
    "df_imp['Income'].fillna(df_imp['Income'].median(), inplace=True)"
   ]
  },
  {
   "cell_type": "code",
   "execution_count": 78,
   "id": "3eca59a4",
   "metadata": {},
   "outputs": [
    {
     "data": {
      "text/plain": [
       "Text(0.5, 1.0, 'Income After Median Imputation')"
      ]
     },
     "execution_count": 78,
     "metadata": {},
     "output_type": "execute_result"
    },
    {
     "data": {
      "image/png": "[encoded data removed]",
      "text/plain": [
       "<Figure size 432x288 with 1 Axes>"
      ]
     },
     "metadata": {
      "needs_background": "light"
     },
     "output_type": "display_data"
    }
   ],
   "source": [
    "# Comparing histograms before and after imputation\n",
    "# Using median because the original histogram distribution is skewed\n",
    "plt.hist(df_imp['Income'])\n",
    "plt.title('Income After Median Imputation')"
   ]
  },
  {
   "cell_type": "code",
   "execution_count": 79,
   "id": "71d72712",
   "metadata": {},
   "outputs": [
    {
     "data": {
      "text/plain": [
       "Text(0.5, 1.0, 'Income After Iterative Imputation')"
      ]
     },
     "execution_count": 79,
     "metadata": {},
     "output_type": "execute_result"
    },
    {
     "data": {
      "image/png": "[encoded data removed]",
      "text/plain": [
       "<Figure size 432x288 with 1 Axes>"
      ]
     },
     "metadata": {
      "needs_background": "light"
     },
     "output_type": "display_data"
    }
   ],
   "source": [
    "# Comparing histograms before and after imputation\n",
    "plt.hist(df1['Income'])\n",
    "plt.title('Income After Iterative Imputation')"
   ]
  },
  {
   "cell_type": "code",
   "execution_count": 80,
   "id": "abc51ff4",
   "metadata": {},
   "outputs": [
    {
     "data": {
      "text/plain": [
       "Text(0.5, 1.0, 'Techie Before Imputation')"
      ]
     },
     "execution_count": 80,
     "metadata": {},
     "output_type": "execute_result"
    },
    {
     "data": {
      "image/png": "[encoded data removed]",
      "text/plain": [
       "<Figure size 432x288 with 1 Axes>"
      ]
     },
     "metadata": {
      "needs_background": "light"
     },
     "output_type": "display_data"
    }
   ],
   "source": [
    "# Comparing histograms before and after imputation\n",
    "# Original with null values\n",
    "df['Techie'].hist()\n",
    "plt.title('Techie Before Imputation')"
   ]
  },
  {
   "cell_type": "code",
   "execution_count": 81,
   "id": "c60c664e",
   "metadata": {},
   "outputs": [],
   "source": [
    "# Mode imputation\n",
    "df1['Techie'] = df1['Techie'].fillna(df1['Techie'].mode()[0])"
   ]
  },
  {
   "cell_type": "code",
   "execution_count": 82,
   "id": "ae94e57c",
   "metadata": {},
   "outputs": [
    {
     "data": {
      "text/plain": [
       "Text(0.5, 1.0, 'Techie After mode Imputation')"
      ]
     },
     "execution_count": 82,
     "metadata": {},
     "output_type": "execute_result"
    },
    {
     "data": {
      "image/png": "[encoded data removed]",
      "text/plain": [
       "<Figure size 432x288 with 1 Axes>"
      ]
     },
     "metadata": {
      "needs_background": "light"
     },
     "output_type": "display_data"
    }
   ],
   "source": [
    "# Comparing histograms before and after imputation\n",
    "df1['Techie'].hist()\n",
    "plt.title('Techie After mode Imputation')"
   ]
  },
  {
   "cell_type": "code",
   "execution_count": 83,
   "id": "3affe208",
   "metadata": {},
   "outputs": [
    {
     "data": {
      "text/plain": [
       "Text(0.5, 1.0, 'Phone Before Imputation')"
      ]
     },
     "execution_count": 83,
     "metadata": {},
     "output_type": "execute_result"
    },
    {
     "data": {
      "image/png": "[encoded data removed]",
      "text/plain": [
       "<Figure size 432x288 with 1 Axes>"
      ]
     },
     "metadata": {
      "needs_background": "light"
     },
     "output_type": "display_data"
    }
   ],
   "source": [
    "# Comparing histograms before and after imputation\n",
    "# Original with null values\n",
    "df['Phone'].hist()\n",
    "plt.title('Phone Before Imputation')"
   ]
  },
  {
   "cell_type": "code",
   "execution_count": 84,
   "id": "3b088991",
   "metadata": {},
   "outputs": [],
   "source": [
    "# Mode imputation\n",
    "df1['Phone'] = df1['Phone'].fillna(df1['Phone'].mode()[0])"
   ]
  },
  {
   "cell_type": "code",
   "execution_count": 85,
   "id": "b39897e0",
   "metadata": {},
   "outputs": [
    {
     "data": {
      "text/plain": [
       "Text(0.5, 1.0, 'Phone After mode Imputation')"
      ]
     },
     "execution_count": 85,
     "metadata": {},
     "output_type": "execute_result"
    },
    {
     "data": {
      "image/png": "[encoded data removed]",
      "text/plain": [
       "<Figure size 432x288 with 1 Axes>"
      ]
     },
     "metadata": {
      "needs_background": "light"
     },
     "output_type": "display_data"
    }
   ],
   "source": [
    "# Comparing histograms before and after imputation\n",
    "df1['Phone'].hist()\n",
    "plt.title('Phone After mode Imputation')"
   ]
  },
  {
   "cell_type": "code",
   "execution_count": 86,
   "id": "31391138",
   "metadata": {},
   "outputs": [
    {
     "data": {
      "text/plain": [
       "Text(0.5, 1.0, 'TechSupport Before Imputation')"
      ]
     },
     "execution_count": 86,
     "metadata": {},
     "output_type": "execute_result"
    },
    {
     "data": {
      "image/png": "[encoded data removed]",
      "text/plain": [
       "<Figure size 432x288 with 1 Axes>"
      ]
     },
     "metadata": {
      "needs_background": "light"
     },
     "output_type": "display_data"
    }
   ],
   "source": [
    "# Comparing histograms before and after imputation\n",
    "# Original with null values\n",
    "df['TechSupport'].hist()\n",
    "plt.title('TechSupport Before Imputation')"
   ]
  },
  {
   "cell_type": "code",
   "execution_count": 87,
   "id": "2cd0cd92",
   "metadata": {},
   "outputs": [],
   "source": [
    "# Counting all the yes, no, and null values in the original data\n",
    "# instances in Phone for imputation example in part D6\n",
    "items = df['Phone']"
   ]
  },
  {
   "cell_type": "code",
   "execution_count": 88,
   "id": "05608ade",
   "metadata": {},
   "outputs": [
    {
     "name": "stdout",
     "output_type": "stream",
     "text": [
      "Counter({'Yes': 8128, nan: 1026, 'No': 846})\n"
     ]
    }
   ],
   "source": [
    "# original_counts equals the original 10,000 rows\n",
    "original_counts = Counter(items)\n",
    "print(original_counts)"
   ]
  },
  {
   "cell_type": "code",
   "execution_count": 89,
   "id": "7bc31da1",
   "metadata": {},
   "outputs": [],
   "source": [
    "# Counting all the yes, no, and null values in the clean data\n",
    "# instances in Phone for imputation example\n",
    "cleaned_items = df1['Phone']"
   ]
  },
  {
   "cell_type": "code",
   "execution_count": 90,
   "id": "1331f691",
   "metadata": {},
   "outputs": [
    {
     "name": "stdout",
     "output_type": "stream",
     "text": [
      "Counter({'Yes': 9143, 'No': 846})\n"
     ]
    }
   ],
   "source": [
    "# original_counts equals the cleaned 9,989 rows\n",
    "cleaned_counts = Counter(cleaned_items)\n",
    "print(cleaned_counts)"
   ]
  },
  {
   "cell_type": "code",
   "execution_count": 91,
   "id": "438856fe",
   "metadata": {},
   "outputs": [],
   "source": [
    "# Mode imputation\n",
    "df1['TechSupport'] = df1['TechSupport'].fillna(df1['TechSupport'].mode()[0])"
   ]
  },
  {
   "cell_type": "code",
   "execution_count": 92,
   "id": "1ee3a1b4",
   "metadata": {},
   "outputs": [
    {
     "data": {
      "text/plain": [
       "Text(0.5, 1.0, 'TechSupport After mode Imputation')"
      ]
     },
     "execution_count": 92,
     "metadata": {},
     "output_type": "execute_result"
    },
    {
     "data": {
      "image/png": "[encoded data removed]",
      "text/plain": [
       "<Figure size 432x288 with 1 Axes>"
      ]
     },
     "metadata": {
      "needs_background": "light"
     },
     "output_type": "display_data"
    }
   ],
   "source": [
    "# Comparing histograms before and after imputation\n",
    "df1['TechSupport'].hist()\n",
    "plt.title('TechSupport After mode Imputation')"
   ]
  },
  {
   "cell_type": "code",
   "execution_count": 93,
   "id": "7a059b9e",
   "metadata": {},
   "outputs": [],
   "source": [
    "# Median imputation\n",
    "df_imp['Tenure'].fillna(df_imp['Tenure'].median(), inplace=True)"
   ]
  },
  {
   "cell_type": "code",
   "execution_count": 94,
   "id": "5d1d6f41",
   "metadata": {},
   "outputs": [
    {
     "data": {
      "text/plain": [
       "Text(0.5, 1.0, 'Tenure Before Imputation')"
      ]
     },
     "execution_count": 94,
     "metadata": {},
     "output_type": "execute_result"
    },
    {
     "data": {
      "image/png": "[encoded data removed]",
      "text/plain": [
       "<Figure size 432x288 with 1 Axes>"
      ]
     },
     "metadata": {
      "needs_background": "light"
     },
     "output_type": "display_data"
    }
   ],
   "source": [
    "# Comparing histograms before and after imputation\n",
    "# Original with null values\n",
    "plt.hist(df['Tenure'])\n",
    "plt.title('Tenure Before Imputation')"
   ]
  },
  {
   "cell_type": "code",
   "execution_count": 95,
   "id": "2317804f",
   "metadata": {},
   "outputs": [
    {
     "data": {
      "text/plain": [
       "Text(0.5, 1.0, 'Tenure After Median Imputation')"
      ]
     },
     "execution_count": 95,
     "metadata": {},
     "output_type": "execute_result"
    },
    {
     "data": {
      "image/png": "[encoded data removed]",
      "text/plain": [
       "<Figure size 432x288 with 1 Axes>"
      ]
     },
     "metadata": {
      "needs_background": "light"
     },
     "output_type": "display_data"
    }
   ],
   "source": [
    "# Comparing histograms before and after imputation\n",
    "# Using median because the original histogram distribution is skewed\n",
    "# Mean imputation would be similar result\n",
    "plt.hist(df_imp['Tenure'])\n",
    "plt.title('Tenure After Median Imputation')"
   ]
  },
  {
   "cell_type": "code",
   "execution_count": 96,
   "id": "547805cc",
   "metadata": {},
   "outputs": [
    {
     "data": {
      "text/plain": [
       "Text(0.5, 1.0, 'Tenure After Iterative Imputation')"
      ]
     },
     "execution_count": 96,
     "metadata": {},
     "output_type": "execute_result"
    },
    {
     "data": {
      "image/png": "[encoded data removed]",
      "text/plain": [
       "<Figure size 432x288 with 1 Axes>"
      ]
     },
     "metadata": {
      "needs_background": "light"
     },
     "output_type": "display_data"
    }
   ],
   "source": [
    "# Comparing histograms before and after imputation\n",
    "plt.hist(df1['Tenure'])\n",
    "plt.title('Tenure After Iterative Imputation')"
   ]
  },
  {
   "cell_type": "code",
   "execution_count": 97,
   "id": "3f953155",
   "metadata": {},
   "outputs": [
    {
     "data": {
      "text/plain": [
       "Text(0.5, 1.0, 'Bandwidth_GB_Year Before Imputation')"
      ]
     },
     "execution_count": 97,
     "metadata": {},
     "output_type": "execute_result"
    },
    {
     "data": {
      "image/png": "[encoded data removed]",
      "text/plain": [
       "<Figure size 432x288 with 1 Axes>"
      ]
     },
     "metadata": {
      "needs_background": "light"
     },
     "output_type": "display_data"
    }
   ],
   "source": [
    "# Comparing histograms before and after imputation\n",
    "# Original with null values\n",
    "plt.hist(df['Bandwidth_GB_Year'])\n",
    "plt.title('Bandwidth_GB_Year Before Imputation')"
   ]
  },
  {
   "cell_type": "code",
   "execution_count": 98,
   "id": "ac8fcd89",
   "metadata": {},
   "outputs": [],
   "source": [
    "# Median imputation\n",
    "df_imp['Bandwidth_GB_Year'].fillna(df_imp['Bandwidth_GB_Year'].median(), inplace=True)"
   ]
  },
  {
   "cell_type": "code",
   "execution_count": 99,
   "id": "62faeb49",
   "metadata": {},
   "outputs": [
    {
     "data": {
      "text/plain": [
       "Text(0.5, 1.0, 'Bandwidth_GB_Year After Median Imputation')"
      ]
     },
     "execution_count": 99,
     "metadata": {},
     "output_type": "execute_result"
    },
    {
     "data": {
      "image/png": "[encoded data removed]",
      "text/plain": [
       "<Figure size 432x288 with 1 Axes>"
      ]
     },
     "metadata": {
      "needs_background": "light"
     },
     "output_type": "display_data"
    }
   ],
   "source": [
    "# Comparing histograms before and after imputation\n",
    "# Using median because the original histogram distribution is skewed\n",
    "# Mean imputation would be similar result\n",
    "plt.hist(df_imp['Bandwidth_GB_Year'])\n",
    "plt.title('Bandwidth_GB_Year After Median Imputation')"
   ]
  },
  {
   "cell_type": "code",
   "execution_count": 100,
   "id": "fa7b39cc",
   "metadata": {},
   "outputs": [
    {
     "data": {
      "text/plain": [
       "Text(0.5, 1.0, 'Bandwidth_GB_Year After Iterative Imputation')"
      ]
     },
     "execution_count": 100,
     "metadata": {},
     "output_type": "execute_result"
    },
    {
     "data": {
      "image/png": "[encoded data removed]",
      "text/plain": [
       "<Figure size 432x288 with 1 Axes>"
      ]
     },
     "metadata": {
      "needs_background": "light"
     },
     "output_type": "display_data"
    }
   ],
   "source": [
    "# Comparing histograms before and after imputation\n",
    "plt.hist(df1['Bandwidth_GB_Year'])\n",
    "plt.title('Bandwidth_GB_Year After Iterative Imputation')"
   ]
  },
  {
   "cell_type": "code",
   "execution_count": 101,
   "id": "0d7d329c",
   "metadata": {},
   "outputs": [
    {
     "data": {
      "text/plain": [
       "Unnamed: 0              0\n",
       "CaseOrder               0\n",
       "Customer_id             0\n",
       "Interaction             0\n",
       "City                    0\n",
       "State                   0\n",
       "County                  0\n",
       "Zip                     0\n",
       "Lat                     0\n",
       "Lng                     0\n",
       "Population              0\n",
       "Area                    0\n",
       "Timezone                0\n",
       "Job                     0\n",
       "Children                0\n",
       "Age                     0\n",
       "Education               0\n",
       "Employment              0\n",
       "Income                  0\n",
       "Marital                 0\n",
       "Gender                  0\n",
       "Churn                   0\n",
       "Outage_sec_perweek      0\n",
       "Email                   0\n",
       "Contacts                0\n",
       "Yearly_equip_failure    0\n",
       "Techie                  0\n",
       "Contract                0\n",
       "Port_modem              0\n",
       "Tablet                  0\n",
       "InternetService         0\n",
       "Phone                   0\n",
       "Multiple                0\n",
       "OnlineSecurity          0\n",
       "OnlineBackup            0\n",
       "DeviceProtection        0\n",
       "TechSupport             0\n",
       "StreamingTV             0\n",
       "StreamingMovies         0\n",
       "PaperlessBilling        0\n",
       "PaymentMethod           0\n",
       "Tenure                  0\n",
       "MonthlyCharge           0\n",
       "Bandwidth_GB_Year       0\n",
       "item1                   0\n",
       "item2                   0\n",
       "item3                   0\n",
       "item4                   0\n",
       "item5                   0\n",
       "item6                   0\n",
       "item7                   0\n",
       "item8                   0\n",
       "dtype: int64"
      ]
     },
     "execution_count": 101,
     "metadata": {},
     "output_type": "execute_result"
    }
   ],
   "source": [
    "# Check nullity--df should have 0 null values now\n",
    "df1.isna().sum()"
   ]
  },
  {
   "cell_type": "code",
   "execution_count": 102,
   "id": "7b5ed8e8",
   "metadata": {},
   "outputs": [
    {
     "name": "stdout",
     "output_type": "stream",
     "text": [
      "0\n",
      "0\n",
      "0\n",
      "0\n",
      "0\n",
      "0\n",
      "0\n",
      "0\n",
      "0\n"
     ]
    }
   ],
   "source": [
    "# Show that each variable now has Zero null values\n",
    "print(df1['Outage_sec_perweek'].isna().sum())\n",
    "print(df1['Children'].isna().sum())\n",
    "print(df1['Age'].isna().sum())\n",
    "print(df1['Income'].isna().sum())\n",
    "print(df1['Techie'].isna().sum())\n",
    "print(df1['Phone'].isna().sum())\n",
    "print(df1['TechSupport'].isna().sum())\n",
    "print(df1['Tenure'].isna().sum())\n",
    "print(df1['Bandwidth_GB_Year'].isna().sum())"
   ]
  },
  {
   "cell_type": "code",
   "execution_count": 103,
   "id": "0f4a89ed",
   "metadata": {},
   "outputs": [
    {
     "data": {
      "image/png": "[encoded data removed]",
      "text/plain": [
       "<Figure size 1800x720 with 2 Axes>"
      ]
     },
     "metadata": {
      "needs_background": "light"
     },
     "output_type": "display_data"
    }
   ],
   "source": [
    "# Visualize the clean dataset\n",
    "msno.matrix(df1, labels = True)\n",
    "plt.show()"
   ]
  },
  {
   "cell_type": "code",
   "execution_count": 104,
   "id": "8baf7a7f",
   "metadata": {},
   "outputs": [],
   "source": [
    "# Extracting csv file of clean dataset\n",
    "df1.to_csv(r'C:\\\\Users\\\\eric7\\\\OneDrive\\\\Desktop\\\\WGU\\\\D206_Data_Cleaning\\\\Eric_Colwell_clean_dataset.csv')"
   ]
  },
  {
   "cell_type": "code",
   "execution_count": 105,
   "id": "292761cf",
   "metadata": {},
   "outputs": [
    {
     "data": {
      "text/html": [
       "<div>\n",
       "<style scoped>\n",
       "    .dataframe tbody tr th:only-of-type {\n",
       "        vertical-align: middle;\n",
       "    }\n",
       "\n",
       "    .dataframe tbody tr th {\n",
       "        vertical-align: top;\n",
       "    }\n",
       "\n",
       "    .dataframe thead th {\n",
       "        text-align: right;\n",
       "    }\n",
       "</style>\n",
       "<table border=\"1\" class=\"dataframe\">\n",
       "  <thead>\n",
       "    <tr style=\"text-align: right;\">\n",
       "      <th></th>\n",
       "      <th>Children</th>\n",
       "      <th>Z_children</th>\n",
       "    </tr>\n",
       "  </thead>\n",
       "  <tbody>\n",
       "    <tr>\n",
       "      <th>0</th>\n",
       "      <td>2.0</td>\n",
       "      <td>-0.051302</td>\n",
       "    </tr>\n",
       "    <tr>\n",
       "      <th>1</th>\n",
       "      <td>1.0</td>\n",
       "      <td>-0.575824</td>\n",
       "    </tr>\n",
       "    <tr>\n",
       "      <th>2</th>\n",
       "      <td>4.0</td>\n",
       "      <td>0.997741</td>\n",
       "    </tr>\n",
       "    <tr>\n",
       "      <th>3</th>\n",
       "      <td>1.0</td>\n",
       "      <td>-0.575824</td>\n",
       "    </tr>\n",
       "    <tr>\n",
       "      <th>4</th>\n",
       "      <td>0.0</td>\n",
       "      <td>-1.100345</td>\n",
       "    </tr>\n",
       "  </tbody>\n",
       "</table>\n",
       "</div>"
      ],
      "text/plain": [
       "   Children  Z_children\n",
       "0       2.0   -0.051302\n",
       "1       1.0   -0.575824\n",
       "2       4.0    0.997741\n",
       "3       1.0   -0.575824\n",
       "4       0.0   -1.100345"
      ]
     },
     "execution_count": 105,
     "metadata": {},
     "output_type": "execute_result"
    }
   ],
   "source": [
    "# Checking for ouliers using Z-scores--stats\n",
    "df1['Z_children'] = st.zscore(df1['Children'])\n",
    "df1[['Children', 'Z_children']].head()"
   ]
  },
  {
   "cell_type": "code",
   "execution_count": 106,
   "id": "dbf9d0f6",
   "metadata": {},
   "outputs": [
    {
     "data": {
      "image/png": "[encoded data removed]",
      "text/plain": [
       "<Figure size 432x288 with 1 Axes>"
      ]
     },
     "metadata": {
      "needs_background": "light"
     },
     "output_type": "display_data"
    }
   ],
   "source": [
    "# Check it on the histogram\n",
    "plt.hist(df1['Z_children'])\n",
    "plt.show()"
   ]
  },
  {
   "cell_type": "code",
   "execution_count": 107,
   "id": "e92204ab",
   "metadata": {},
   "outputs": [
    {
     "data": {
      "image/png": "[encoded data removed]",
      "text/plain": [
       "<Figure size 432x288 with 1 Axes>"
      ]
     },
     "metadata": {
      "needs_background": "light"
     },
     "output_type": "display_data"
    }
   ],
   "source": [
    "# Check the boxplot for outliers\n",
    "boxplot = sns.boxplot(x='Children', data = df1)"
   ]
  },
  {
   "cell_type": "code",
   "execution_count": 108,
   "id": "c4983248",
   "metadata": {},
   "outputs": [
    {
     "data": {
      "text/html": [
       "<div>\n",
       "<style scoped>\n",
       "    .dataframe tbody tr th:only-of-type {\n",
       "        vertical-align: middle;\n",
       "    }\n",
       "\n",
       "    .dataframe tbody tr th {\n",
       "        vertical-align: top;\n",
       "    }\n",
       "\n",
       "    .dataframe thead th {\n",
       "        text-align: right;\n",
       "    }\n",
       "</style>\n",
       "<table border=\"1\" class=\"dataframe\">\n",
       "  <thead>\n",
       "    <tr style=\"text-align: right;\">\n",
       "      <th></th>\n",
       "      <th>Age</th>\n",
       "      <th>Z_age</th>\n",
       "    </tr>\n",
       "  </thead>\n",
       "  <tbody>\n",
       "    <tr>\n",
       "      <th>0</th>\n",
       "      <td>68.0</td>\n",
       "      <td>0.806302</td>\n",
       "    </tr>\n",
       "    <tr>\n",
       "      <th>1</th>\n",
       "      <td>27.0</td>\n",
       "      <td>-1.430260</td>\n",
       "    </tr>\n",
       "    <tr>\n",
       "      <th>2</th>\n",
       "      <td>50.0</td>\n",
       "      <td>-0.175603</td>\n",
       "    </tr>\n",
       "    <tr>\n",
       "      <th>3</th>\n",
       "      <td>48.0</td>\n",
       "      <td>-0.284704</td>\n",
       "    </tr>\n",
       "    <tr>\n",
       "      <th>4</th>\n",
       "      <td>83.0</td>\n",
       "      <td>1.624557</td>\n",
       "    </tr>\n",
       "  </tbody>\n",
       "</table>\n",
       "</div>"
      ],
      "text/plain": [
       "    Age     Z_age\n",
       "0  68.0  0.806302\n",
       "1  27.0 -1.430260\n",
       "2  50.0 -0.175603\n",
       "3  48.0 -0.284704\n",
       "4  83.0  1.624557"
      ]
     },
     "execution_count": 108,
     "metadata": {},
     "output_type": "execute_result"
    }
   ],
   "source": [
    "# Checking for ouliers using Z-scores--stats\n",
    "df1['Z_age'] = st.zscore(df1['Age'])\n",
    "df1[['Age', 'Z_age']].head()"
   ]
  },
  {
   "cell_type": "code",
   "execution_count": 109,
   "id": "b4490898",
   "metadata": {},
   "outputs": [
    {
     "data": {
      "image/png": "[encoded data removed]",
      "text/plain": [
       "<Figure size 432x288 with 1 Axes>"
      ]
     },
     "metadata": {
      "needs_background": "light"
     },
     "output_type": "display_data"
    }
   ],
   "source": [
    "# Check it on the histogram\n",
    "plt.hist(df1['Z_age'])\n",
    "plt.show()"
   ]
  },
  {
   "cell_type": "code",
   "execution_count": 110,
   "id": "21a06f22",
   "metadata": {},
   "outputs": [
    {
     "data": {
      "image/png": "[encoded data removed]",
      "text/plain": [
       "<Figure size 432x288 with 1 Axes>"
      ]
     },
     "metadata": {
      "needs_background": "light"
     },
     "output_type": "display_data"
    }
   ],
   "source": [
    "# Check the boxplot for outliers\n",
    "boxplot = sns.boxplot(x='Age', data = df1)"
   ]
  },
  {
   "cell_type": "code",
   "execution_count": 111,
   "id": "280c687d",
   "metadata": {},
   "outputs": [
    {
     "data": {
      "text/html": [
       "<div>\n",
       "<style scoped>\n",
       "    .dataframe tbody tr th:only-of-type {\n",
       "        vertical-align: middle;\n",
       "    }\n",
       "\n",
       "    .dataframe tbody tr th {\n",
       "        vertical-align: top;\n",
       "    }\n",
       "\n",
       "    .dataframe thead th {\n",
       "        text-align: right;\n",
       "    }\n",
       "</style>\n",
       "<table border=\"1\" class=\"dataframe\">\n",
       "  <thead>\n",
       "    <tr style=\"text-align: right;\">\n",
       "      <th></th>\n",
       "      <th>Income</th>\n",
       "      <th>Z_income</th>\n",
       "    </tr>\n",
       "  </thead>\n",
       "  <tbody>\n",
       "    <tr>\n",
       "      <th>0</th>\n",
       "      <td>28561.990000</td>\n",
       "      <td>-0.462754</td>\n",
       "    </tr>\n",
       "    <tr>\n",
       "      <th>1</th>\n",
       "      <td>21704.770000</td>\n",
       "      <td>-0.741870</td>\n",
       "    </tr>\n",
       "    <tr>\n",
       "      <th>2</th>\n",
       "      <td>39935.978781</td>\n",
       "      <td>0.000214</td>\n",
       "    </tr>\n",
       "    <tr>\n",
       "      <th>3</th>\n",
       "      <td>18925.230000</td>\n",
       "      <td>-0.855009</td>\n",
       "    </tr>\n",
       "    <tr>\n",
       "      <th>4</th>\n",
       "      <td>40074.190000</td>\n",
       "      <td>0.005840</td>\n",
       "    </tr>\n",
       "  </tbody>\n",
       "</table>\n",
       "</div>"
      ],
      "text/plain": [
       "         Income  Z_income\n",
       "0  28561.990000 -0.462754\n",
       "1  21704.770000 -0.741870\n",
       "2  39935.978781  0.000214\n",
       "3  18925.230000 -0.855009\n",
       "4  40074.190000  0.005840"
      ]
     },
     "execution_count": 111,
     "metadata": {},
     "output_type": "execute_result"
    }
   ],
   "source": [
    "# Checking for ouliers using Z-scores--stats\n",
    "df1['Z_income'] = st.zscore(df1['Income'])\n",
    "df1[['Income', 'Z_income']].head()"
   ]
  },
  {
   "cell_type": "code",
   "execution_count": 112,
   "id": "5c06d1cc",
   "metadata": {},
   "outputs": [
    {
     "data": {
      "image/png": "[encoded data removed]",
      "text/plain": [
       "<Figure size 432x288 with 1 Axes>"
      ]
     },
     "metadata": {
      "needs_background": "light"
     },
     "output_type": "display_data"
    }
   ],
   "source": [
    "# Check it on the histogram\n",
    "plt.hist(df1['Z_income'])\n",
    "plt.show()"
   ]
  },
  {
   "cell_type": "code",
   "execution_count": 113,
   "id": "0d4e8e1a",
   "metadata": {},
   "outputs": [
    {
     "data": {
      "image/png": "[encoded data removed]",
      "text/plain": [
       "<Figure size 432x288 with 1 Axes>"
      ]
     },
     "metadata": {
      "needs_background": "light"
     },
     "output_type": "display_data"
    }
   ],
   "source": [
    "# Check the boxplot for outliers\n",
    "boxplot = sns.boxplot(x='Income', data = df1)"
   ]
  },
  {
   "cell_type": "code",
   "execution_count": 114,
   "id": "8a5ef5e3",
   "metadata": {},
   "outputs": [
    {
     "data": {
      "text/html": [
       "<div>\n",
       "<style scoped>\n",
       "    .dataframe tbody tr th:only-of-type {\n",
       "        vertical-align: middle;\n",
       "    }\n",
       "\n",
       "    .dataframe tbody tr th {\n",
       "        vertical-align: top;\n",
       "    }\n",
       "\n",
       "    .dataframe thead th {\n",
       "        text-align: right;\n",
       "    }\n",
       "</style>\n",
       "<table border=\"1\" class=\"dataframe\">\n",
       "  <thead>\n",
       "    <tr style=\"text-align: right;\">\n",
       "      <th></th>\n",
       "      <th>Outage_sec_perweek</th>\n",
       "      <th>Z_outage</th>\n",
       "    </tr>\n",
       "  </thead>\n",
       "  <tbody>\n",
       "    <tr>\n",
       "      <th>0</th>\n",
       "      <td>6.972566</td>\n",
       "      <td>-0.640296</td>\n",
       "    </tr>\n",
       "    <tr>\n",
       "      <th>1</th>\n",
       "      <td>12.014541</td>\n",
       "      <td>0.078132</td>\n",
       "    </tr>\n",
       "    <tr>\n",
       "      <th>2</th>\n",
       "      <td>10.245616</td>\n",
       "      <td>-0.173921</td>\n",
       "    </tr>\n",
       "    <tr>\n",
       "      <th>3</th>\n",
       "      <td>15.206193</td>\n",
       "      <td>0.532909</td>\n",
       "    </tr>\n",
       "    <tr>\n",
       "      <th>4</th>\n",
       "      <td>8.960316</td>\n",
       "      <td>-0.357063</td>\n",
       "    </tr>\n",
       "  </tbody>\n",
       "</table>\n",
       "</div>"
      ],
      "text/plain": [
       "   Outage_sec_perweek  Z_outage\n",
       "0            6.972566 -0.640296\n",
       "1           12.014541  0.078132\n",
       "2           10.245616 -0.173921\n",
       "3           15.206193  0.532909\n",
       "4            8.960316 -0.357063"
      ]
     },
     "execution_count": 114,
     "metadata": {},
     "output_type": "execute_result"
    }
   ],
   "source": [
    "# Checking for ouliers using Z-scores--stats\n",
    "df1['Z_outage'] = st.zscore(df1['Outage_sec_perweek'])\n",
    "df1[['Outage_sec_perweek', 'Z_outage']].head()"
   ]
  },
  {
   "cell_type": "code",
   "execution_count": 115,
   "id": "d4f01c0e",
   "metadata": {},
   "outputs": [
    {
     "data": {
      "image/png": "[encoded data removed]",
      "text/plain": [
       "<Figure size 432x288 with 1 Axes>"
      ]
     },
     "metadata": {
      "needs_background": "light"
     },
     "output_type": "display_data"
    }
   ],
   "source": [
    "# Check it on the histogram\n",
    "plt.hist(df1['Z_outage'])\n",
    "plt.show()"
   ]
  },
  {
   "cell_type": "code",
   "execution_count": 116,
   "id": "df04a549",
   "metadata": {},
   "outputs": [
    {
     "data": {
      "image/png": "[encoded data removed]",
      "text/plain": [
       "<Figure size 432x288 with 1 Axes>"
      ]
     },
     "metadata": {
      "needs_background": "light"
     },
     "output_type": "display_data"
    }
   ],
   "source": [
    "# Check the boxplot for outliers\n",
    "boxplot = sns.boxplot(x='Outage_sec_perweek', data = df1)"
   ]
  },
  {
   "cell_type": "code",
   "execution_count": 117,
   "id": "15da3e6b",
   "metadata": {},
   "outputs": [
    {
     "data": {
      "text/html": [
       "<div>\n",
       "<style scoped>\n",
       "    .dataframe tbody tr th:only-of-type {\n",
       "        vertical-align: middle;\n",
       "    }\n",
       "\n",
       "    .dataframe tbody tr th {\n",
       "        vertical-align: top;\n",
       "    }\n",
       "\n",
       "    .dataframe thead th {\n",
       "        text-align: right;\n",
       "    }\n",
       "</style>\n",
       "<table border=\"1\" class=\"dataframe\">\n",
       "  <thead>\n",
       "    <tr style=\"text-align: right;\">\n",
       "      <th></th>\n",
       "      <th>Unnamed: 0</th>\n",
       "      <th>CaseOrder</th>\n",
       "      <th>Customer_id</th>\n",
       "      <th>Interaction</th>\n",
       "      <th>City</th>\n",
       "      <th>State</th>\n",
       "      <th>County</th>\n",
       "      <th>Zip</th>\n",
       "      <th>Lat</th>\n",
       "      <th>Lng</th>\n",
       "      <th>...</th>\n",
       "      <th>item3</th>\n",
       "      <th>item4</th>\n",
       "      <th>item5</th>\n",
       "      <th>item6</th>\n",
       "      <th>item7</th>\n",
       "      <th>item8</th>\n",
       "      <th>Z_children</th>\n",
       "      <th>Z_age</th>\n",
       "      <th>Z_income</th>\n",
       "      <th>Z_outage</th>\n",
       "    </tr>\n",
       "  </thead>\n",
       "  <tbody>\n",
       "    <tr>\n",
       "      <th>28</th>\n",
       "      <td>29</td>\n",
       "      <td>29</td>\n",
       "      <td>J887250</td>\n",
       "      <td>a49a3cbf-182c-49f5-b15f-e124582d2c8f</td>\n",
       "      <td>Moretown</td>\n",
       "      <td>VT</td>\n",
       "      <td>Washington</td>\n",
       "      <td>5660</td>\n",
       "      <td>44.24718</td>\n",
       "      <td>-72.74137</td>\n",
       "      <td>...</td>\n",
       "      <td>3</td>\n",
       "      <td>3</td>\n",
       "      <td>2</td>\n",
       "      <td>4</td>\n",
       "      <td>4</td>\n",
       "      <td>2</td>\n",
       "      <td>0.473219</td>\n",
       "      <td>-0.234221</td>\n",
       "      <td>-0.000109</td>\n",
       "      <td>4.625330</td>\n",
       "    </tr>\n",
       "    <tr>\n",
       "      <th>36</th>\n",
       "      <td>37</td>\n",
       "      <td>37</td>\n",
       "      <td>U790894</td>\n",
       "      <td>01fa4db5-6be5-47de-a3ac-53b95e5c44a8</td>\n",
       "      <td>Marlborough</td>\n",
       "      <td>CT</td>\n",
       "      <td>Hartford</td>\n",
       "      <td>6447</td>\n",
       "      <td>41.63306</td>\n",
       "      <td>-72.45472</td>\n",
       "      <td>...</td>\n",
       "      <td>5</td>\n",
       "      <td>5</td>\n",
       "      <td>2</td>\n",
       "      <td>4</td>\n",
       "      <td>5</td>\n",
       "      <td>5</td>\n",
       "      <td>-0.051302</td>\n",
       "      <td>-1.484811</td>\n",
       "      <td>-1.213629</td>\n",
       "      <td>4.739058</td>\n",
       "    </tr>\n",
       "    <tr>\n",
       "      <th>40</th>\n",
       "      <td>41</td>\n",
       "      <td>41</td>\n",
       "      <td>X711438</td>\n",
       "      <td>3c086e5c-e913-43b6-90d0-30b15b7cd37f</td>\n",
       "      <td>Mantoloking</td>\n",
       "      <td>NJ</td>\n",
       "      <td>Ocean</td>\n",
       "      <td>8738</td>\n",
       "      <td>40.02145</td>\n",
       "      <td>-74.06183</td>\n",
       "      <td>...</td>\n",
       "      <td>3</td>\n",
       "      <td>3</td>\n",
       "      <td>3</td>\n",
       "      <td>5</td>\n",
       "      <td>4</td>\n",
       "      <td>4</td>\n",
       "      <td>0.473219</td>\n",
       "      <td>-0.136739</td>\n",
       "      <td>-0.069985</td>\n",
       "      <td>3.909788</td>\n",
       "    </tr>\n",
       "    <tr>\n",
       "      <th>61</th>\n",
       "      <td>62</td>\n",
       "      <td>62</td>\n",
       "      <td>O942919</td>\n",
       "      <td>176d7713-b919-41c3-badf-676dc1abbf07</td>\n",
       "      <td>Delavan</td>\n",
       "      <td>IL</td>\n",
       "      <td>Tazewell</td>\n",
       "      <td>61734</td>\n",
       "      <td>40.37342</td>\n",
       "      <td>-89.52646</td>\n",
       "      <td>...</td>\n",
       "      <td>3</td>\n",
       "      <td>2</td>\n",
       "      <td>3</td>\n",
       "      <td>4</td>\n",
       "      <td>2</td>\n",
       "      <td>4</td>\n",
       "      <td>-0.575824</td>\n",
       "      <td>-1.539361</td>\n",
       "      <td>1.705532</td>\n",
       "      <td>4.049223</td>\n",
       "    </tr>\n",
       "    <tr>\n",
       "      <th>130</th>\n",
       "      <td>131</td>\n",
       "      <td>131</td>\n",
       "      <td>X645702</td>\n",
       "      <td>cfc79a87-f608-485d-86c9-cfce7db37a29</td>\n",
       "      <td>Dennison</td>\n",
       "      <td>OH</td>\n",
       "      <td>Tuscarawas</td>\n",
       "      <td>44621</td>\n",
       "      <td>40.42752</td>\n",
       "      <td>-81.29587</td>\n",
       "      <td>...</td>\n",
       "      <td>4</td>\n",
       "      <td>2</td>\n",
       "      <td>4</td>\n",
       "      <td>4</td>\n",
       "      <td>3</td>\n",
       "      <td>2</td>\n",
       "      <td>-1.100345</td>\n",
       "      <td>-0.339254</td>\n",
       "      <td>3.495835</td>\n",
       "      <td>4.022570</td>\n",
       "    </tr>\n",
       "    <tr>\n",
       "      <th>...</th>\n",
       "      <td>...</td>\n",
       "      <td>...</td>\n",
       "      <td>...</td>\n",
       "      <td>...</td>\n",
       "      <td>...</td>\n",
       "      <td>...</td>\n",
       "      <td>...</td>\n",
       "      <td>...</td>\n",
       "      <td>...</td>\n",
       "      <td>...</td>\n",
       "      <td>...</td>\n",
       "      <td>...</td>\n",
       "      <td>...</td>\n",
       "      <td>...</td>\n",
       "      <td>...</td>\n",
       "      <td>...</td>\n",
       "      <td>...</td>\n",
       "      <td>...</td>\n",
       "      <td>...</td>\n",
       "      <td>...</td>\n",
       "      <td>...</td>\n",
       "    </tr>\n",
       "    <tr>\n",
       "      <th>9894</th>\n",
       "      <td>9895</td>\n",
       "      <td>9895</td>\n",
       "      <td>M593222</td>\n",
       "      <td>8e17fc2f-b4b9-43ed-81fd-f76425fc3cce</td>\n",
       "      <td>Valley View</td>\n",
       "      <td>PA</td>\n",
       "      <td>Schuylkill</td>\n",
       "      <td>17983</td>\n",
       "      <td>40.64263</td>\n",
       "      <td>-76.54692</td>\n",
       "      <td>...</td>\n",
       "      <td>3</td>\n",
       "      <td>2</td>\n",
       "      <td>5</td>\n",
       "      <td>2</td>\n",
       "      <td>2</td>\n",
       "      <td>4</td>\n",
       "      <td>0.473219</td>\n",
       "      <td>1.624557</td>\n",
       "      <td>0.355160</td>\n",
       "      <td>4.706930</td>\n",
       "    </tr>\n",
       "    <tr>\n",
       "      <th>9895</th>\n",
       "      <td>9896</td>\n",
       "      <td>9896</td>\n",
       "      <td>Y827249</td>\n",
       "      <td>683654d1-0905-4992-a131-d9510c87f882</td>\n",
       "      <td>Pinson</td>\n",
       "      <td>AL</td>\n",
       "      <td>Jefferson</td>\n",
       "      <td>35126</td>\n",
       "      <td>33.73147</td>\n",
       "      <td>-86.65417</td>\n",
       "      <td>...</td>\n",
       "      <td>4</td>\n",
       "      <td>3</td>\n",
       "      <td>3</td>\n",
       "      <td>4</td>\n",
       "      <td>3</td>\n",
       "      <td>5</td>\n",
       "      <td>-1.100345</td>\n",
       "      <td>-1.593911</td>\n",
       "      <td>-0.264594</td>\n",
       "      <td>4.163351</td>\n",
       "    </tr>\n",
       "    <tr>\n",
       "      <th>9907</th>\n",
       "      <td>9908</td>\n",
       "      <td>9908</td>\n",
       "      <td>X106044</td>\n",
       "      <td>c504ace3-2fa9-4bf5-83cc-023d16e653cb</td>\n",
       "      <td>Valley Bend</td>\n",
       "      <td>WV</td>\n",
       "      <td>Randolph</td>\n",
       "      <td>26293</td>\n",
       "      <td>38.78246</td>\n",
       "      <td>-79.93577</td>\n",
       "      <td>...</td>\n",
       "      <td>4</td>\n",
       "      <td>4</td>\n",
       "      <td>5</td>\n",
       "      <td>3</td>\n",
       "      <td>3</td>\n",
       "      <td>3</td>\n",
       "      <td>-0.575824</td>\n",
       "      <td>-1.484811</td>\n",
       "      <td>-0.000033</td>\n",
       "      <td>3.855556</td>\n",
       "    </tr>\n",
       "    <tr>\n",
       "      <th>9945</th>\n",
       "      <td>9946</td>\n",
       "      <td>9946</td>\n",
       "      <td>T260778</td>\n",
       "      <td>e8f84606-857d-40c4-aac1-31a235948601</td>\n",
       "      <td>Burchard</td>\n",
       "      <td>NE</td>\n",
       "      <td>Pawnee</td>\n",
       "      <td>68323</td>\n",
       "      <td>40.14019</td>\n",
       "      <td>-96.38206</td>\n",
       "      <td>...</td>\n",
       "      <td>3</td>\n",
       "      <td>3</td>\n",
       "      <td>4</td>\n",
       "      <td>2</td>\n",
       "      <td>2</td>\n",
       "      <td>2</td>\n",
       "      <td>-1.100345</td>\n",
       "      <td>1.951859</td>\n",
       "      <td>0.000122</td>\n",
       "      <td>3.971297</td>\n",
       "    </tr>\n",
       "    <tr>\n",
       "      <th>9950</th>\n",
       "      <td>9951</td>\n",
       "      <td>9951</td>\n",
       "      <td>C668339</td>\n",
       "      <td>fc2f692c-4ab4-48be-b2d1-cbc6a08d45f0</td>\n",
       "      <td>Columbus</td>\n",
       "      <td>OH</td>\n",
       "      <td>Franklin</td>\n",
       "      <td>43217</td>\n",
       "      <td>39.81677</td>\n",
       "      <td>-82.93188</td>\n",
       "      <td>...</td>\n",
       "      <td>3</td>\n",
       "      <td>6</td>\n",
       "      <td>1</td>\n",
       "      <td>4</td>\n",
       "      <td>4</td>\n",
       "      <td>5</td>\n",
       "      <td>-1.100345</td>\n",
       "      <td>-1.866663</td>\n",
       "      <td>0.341145</td>\n",
       "      <td>4.204592</td>\n",
       "    </tr>\n",
       "  </tbody>\n",
       "</table>\n",
       "<p>491 rows × 56 columns</p>\n",
       "</div>"
      ],
      "text/plain": [
       "      Unnamed: 0  CaseOrder Customer_id                           Interaction  \\\n",
       "28            29         29     J887250  a49a3cbf-182c-49f5-b15f-e124582d2c8f   \n",
       "36            37         37     U790894  01fa4db5-6be5-47de-a3ac-53b95e5c44a8   \n",
       "40            41         41     X711438  3c086e5c-e913-43b6-90d0-30b15b7cd37f   \n",
       "61            62         62     O942919  176d7713-b919-41c3-badf-676dc1abbf07   \n",
       "130          131        131     X645702  cfc79a87-f608-485d-86c9-cfce7db37a29   \n",
       "...          ...        ...         ...                                   ...   \n",
       "9894        9895       9895     M593222  8e17fc2f-b4b9-43ed-81fd-f76425fc3cce   \n",
       "9895        9896       9896     Y827249  683654d1-0905-4992-a131-d9510c87f882   \n",
       "9907        9908       9908     X106044  c504ace3-2fa9-4bf5-83cc-023d16e653cb   \n",
       "9945        9946       9946     T260778  e8f84606-857d-40c4-aac1-31a235948601   \n",
       "9950        9951       9951     C668339  fc2f692c-4ab4-48be-b2d1-cbc6a08d45f0   \n",
       "\n",
       "             City State      County    Zip       Lat       Lng  ...  item3  \\\n",
       "28       Moretown    VT  Washington   5660  44.24718 -72.74137  ...      3   \n",
       "36    Marlborough    CT    Hartford   6447  41.63306 -72.45472  ...      5   \n",
       "40    Mantoloking    NJ       Ocean   8738  40.02145 -74.06183  ...      3   \n",
       "61        Delavan    IL    Tazewell  61734  40.37342 -89.52646  ...      3   \n",
       "130      Dennison    OH  Tuscarawas  44621  40.42752 -81.29587  ...      4   \n",
       "...           ...   ...         ...    ...       ...       ...  ...    ...   \n",
       "9894  Valley View    PA  Schuylkill  17983  40.64263 -76.54692  ...      3   \n",
       "9895       Pinson    AL   Jefferson  35126  33.73147 -86.65417  ...      4   \n",
       "9907  Valley Bend    WV    Randolph  26293  38.78246 -79.93577  ...      4   \n",
       "9945     Burchard    NE      Pawnee  68323  40.14019 -96.38206  ...      3   \n",
       "9950     Columbus    OH    Franklin  43217  39.81677 -82.93188  ...      3   \n",
       "\n",
       "     item4 item5 item6  item7  item8 Z_children     Z_age  Z_income  Z_outage  \n",
       "28       3     2     4      4      2   0.473219 -0.234221 -0.000109  4.625330  \n",
       "36       5     2     4      5      5  -0.051302 -1.484811 -1.213629  4.739058  \n",
       "40       3     3     5      4      4   0.473219 -0.136739 -0.069985  3.909788  \n",
       "61       2     3     4      2      4  -0.575824 -1.539361  1.705532  4.049223  \n",
       "130      2     4     4      3      2  -1.100345 -0.339254  3.495835  4.022570  \n",
       "...    ...   ...   ...    ...    ...        ...       ...       ...       ...  \n",
       "9894     2     5     2      2      4   0.473219  1.624557  0.355160  4.706930  \n",
       "9895     3     3     4      3      5  -1.100345 -1.593911 -0.264594  4.163351  \n",
       "9907     4     5     3      3      3  -0.575824 -1.484811 -0.000033  3.855556  \n",
       "9945     3     4     2      2      2  -1.100345  1.951859  0.000122  3.971297  \n",
       "9950     6     1     4      4      5  -1.100345 -1.866663  0.341145  4.204592  \n",
       "\n",
       "[491 rows x 56 columns]"
      ]
     },
     "execution_count": 117,
     "metadata": {},
     "output_type": "execute_result"
    }
   ],
   "source": [
    "df1[df1['Z_outage']>3]"
   ]
  },
  {
   "cell_type": "code",
   "execution_count": 118,
   "id": "1464c033",
   "metadata": {},
   "outputs": [
    {
     "data": {
      "text/html": [
       "<div>\n",
       "<style scoped>\n",
       "    .dataframe tbody tr th:only-of-type {\n",
       "        vertical-align: middle;\n",
       "    }\n",
       "\n",
       "    .dataframe tbody tr th {\n",
       "        vertical-align: top;\n",
       "    }\n",
       "\n",
       "    .dataframe thead th {\n",
       "        text-align: right;\n",
       "    }\n",
       "</style>\n",
       "<table border=\"1\" class=\"dataframe\">\n",
       "  <thead>\n",
       "    <tr style=\"text-align: right;\">\n",
       "      <th></th>\n",
       "      <th>Unnamed: 0</th>\n",
       "      <th>CaseOrder</th>\n",
       "      <th>Customer_id</th>\n",
       "      <th>Interaction</th>\n",
       "      <th>City</th>\n",
       "      <th>State</th>\n",
       "      <th>County</th>\n",
       "      <th>Zip</th>\n",
       "      <th>Lat</th>\n",
       "      <th>Lng</th>\n",
       "      <th>...</th>\n",
       "      <th>item3</th>\n",
       "      <th>item4</th>\n",
       "      <th>item5</th>\n",
       "      <th>item6</th>\n",
       "      <th>item7</th>\n",
       "      <th>item8</th>\n",
       "      <th>Z_children</th>\n",
       "      <th>Z_age</th>\n",
       "      <th>Z_income</th>\n",
       "      <th>Z_outage</th>\n",
       "    </tr>\n",
       "  </thead>\n",
       "  <tbody>\n",
       "  </tbody>\n",
       "</table>\n",
       "<p>0 rows × 56 columns</p>\n",
       "</div>"
      ],
      "text/plain": [
       "Empty DataFrame\n",
       "Columns: [Unnamed: 0, CaseOrder, Customer_id, Interaction, City, State, County, Zip, Lat, Lng, Population, Area, Timezone, Job, Children, Age, Education, Employment, Income, Marital, Gender, Churn, Outage_sec_perweek, Email, Contacts, Yearly_equip_failure, Techie, Contract, Port_modem, Tablet, InternetService, Phone, Multiple, OnlineSecurity, OnlineBackup, DeviceProtection, TechSupport, StreamingTV, StreamingMovies, PaperlessBilling, PaymentMethod, Tenure, MonthlyCharge, Bandwidth_GB_Year, item1, item2, item3, item4, item5, item6, item7, item8, Z_children, Z_age, Z_income, Z_outage]\n",
       "Index: []\n",
       "\n",
       "[0 rows x 56 columns]"
      ]
     },
     "execution_count": 118,
     "metadata": {},
     "output_type": "execute_result"
    }
   ],
   "source": [
    "df1[df1['Z_outage'] < -3]"
   ]
  },
  {
   "cell_type": "code",
   "execution_count": 119,
   "id": "ab41223f",
   "metadata": {},
   "outputs": [
    {
     "data": {
      "text/plain": [
       "array([\"Master's Degree\", 'Regular High School Diploma',\n",
       "       'Doctorate Degree', 'No Schooling Completed', \"Associate's Degree\",\n",
       "       \"Bachelor's Degree\", 'Some College, Less than 1 Year',\n",
       "       'GED or Alternative Credential',\n",
       "       'Some College, 1 or More Years, No Degree',\n",
       "       '9th Grade to 12th Grade, No Diploma',\n",
       "       'Nursery School to 8th Grade', 'Professional School Degree'],\n",
       "      dtype=object)"
      ]
     },
     "execution_count": 119,
     "metadata": {},
     "output_type": "execute_result"
    }
   ],
   "source": [
    "# Look at the unique values again for ordinal encoding purposes\n",
    "df1.Education.unique()"
   ]
  },
  {
   "cell_type": "code",
   "execution_count": 120,
   "id": "eaaaeb6c",
   "metadata": {},
   "outputs": [],
   "source": [
    "# Create a new variable for encoding\n",
    "df1['education_numeric'] = df1['Education']"
   ]
  },
  {
   "cell_type": "code",
   "execution_count": 121,
   "id": "1e767fea",
   "metadata": {},
   "outputs": [],
   "source": [
    "# Create a dictionary for converting categorical values to numeric\n",
    "dict_edu = {'education_numeric': \n",
    "            {'No Schooling Completed': 0,\n",
    "            'Nursery School to 8th Grade': 8,\n",
    "            '9th Grade to 12th Grade, No Diploma': 10,\n",
    "            'GED or Alternative Credential': 11,\n",
    "            'Regular High School Diploma': 12,\n",
    "            'Some College, Less than 1 Year': 13,\n",
    "            'Some College, 1 or More Years, No Degree': 14,\n",
    "            'Professional School Degree': 15,\n",
    "            \"Associate's Degree\": 16,\n",
    "            \"Bachelor's Degree\": 18,\n",
    "            \"Master's Degree\": 20,\n",
    "            'Doctorate Degree': 22}}"
   ]
  },
  {
   "cell_type": "code",
   "execution_count": 122,
   "id": "cd04fa94",
   "metadata": {},
   "outputs": [],
   "source": [
    "# Put the new encoded variable into the dataframe\n",
    "df1.replace(dict_edu, inplace=True)"
   ]
  },
  {
   "cell_type": "code",
   "execution_count": 123,
   "id": "a2089206",
   "metadata": {},
   "outputs": [
    {
     "data": {
      "text/plain": [
       "0                      Master's Degree\n",
       "1          Regular High School Diploma\n",
       "2          Regular High School Diploma\n",
       "3                     Doctorate Degree\n",
       "4                      Master's Degree\n",
       "                     ...              \n",
       "9995    Some College, Less than 1 Year\n",
       "9996       Regular High School Diploma\n",
       "9997       Nursery School to 8th Grade\n",
       "9998                 Bachelor's Degree\n",
       "9999     GED or Alternative Credential\n",
       "Name: Education, Length: 9989, dtype: object"
      ]
     },
     "execution_count": 123,
     "metadata": {},
     "output_type": "execute_result"
    }
   ],
   "source": [
    "# Just looking at the difference\n",
    "df1['Education']"
   ]
  },
  {
   "cell_type": "code",
   "execution_count": 124,
   "id": "ee05eaac",
   "metadata": {},
   "outputs": [
    {
     "data": {
      "text/plain": [
       "0       20\n",
       "1       12\n",
       "2       12\n",
       "3       22\n",
       "4       20\n",
       "        ..\n",
       "9995    13\n",
       "9996    12\n",
       "9997     8\n",
       "9998    18\n",
       "9999    11\n",
       "Name: education_numeric, Length: 9989, dtype: int64"
      ]
     },
     "execution_count": 124,
     "metadata": {},
     "output_type": "execute_result"
    }
   ],
   "source": [
    "# Check to make sure it is numeric\n",
    "df1['education_numeric']"
   ]
  },
  {
   "cell_type": "code",
   "execution_count": 125,
   "id": "9a6b1ef5",
   "metadata": {},
   "outputs": [
    {
     "data": {
      "text/plain": [
       "array(['Part Time', 'Retired', 'Student', 'Full Time', 'Unemployed'],\n",
       "      dtype=object)"
      ]
     },
     "execution_count": 125,
     "metadata": {},
     "output_type": "execute_result"
    }
   ],
   "source": [
    "# Look at the unique values again for ordinal encoding purposes\n",
    "df1.Employment.unique()"
   ]
  },
  {
   "cell_type": "code",
   "execution_count": 126,
   "id": "3a89be01",
   "metadata": {},
   "outputs": [],
   "source": [
    "# Create a new variable for encoding\n",
    "df1['employment_numeric'] = df1['Employment']"
   ]
  },
  {
   "cell_type": "code",
   "execution_count": 127,
   "id": "2bf9d8f2",
   "metadata": {},
   "outputs": [],
   "source": [
    "# Create a dictionary for converting categorical values to numeric\n",
    "dict_emp = {'employment_numeric': \n",
    "            {'Unemployed': 0,\n",
    "            'Student': 1,\n",
    "            'Part Time': 2,\n",
    "            'Full Time': 3,\n",
    "            'Retired': 4}}"
   ]
  },
  {
   "cell_type": "code",
   "execution_count": 128,
   "id": "7af643e5",
   "metadata": {},
   "outputs": [],
   "source": [
    "# Put the new encoded variable into the dataframe\n",
    "df1.replace(dict_emp, inplace=True)"
   ]
  },
  {
   "cell_type": "code",
   "execution_count": 129,
   "id": "b4ff8622",
   "metadata": {},
   "outputs": [
    {
     "data": {
      "text/plain": [
       "0       2\n",
       "1       4\n",
       "2       1\n",
       "3       4\n",
       "4       1\n",
       "       ..\n",
       "9995    4\n",
       "9996    2\n",
       "9997    3\n",
       "9998    3\n",
       "9999    3\n",
       "Name: employment_numeric, Length: 9989, dtype: int64"
      ]
     },
     "execution_count": 129,
     "metadata": {},
     "output_type": "execute_result"
    }
   ],
   "source": [
    "# Check to make sure it is numeric\n",
    "df1['employment_numeric']"
   ]
  },
  {
   "cell_type": "code",
   "execution_count": 130,
   "id": "77be208f",
   "metadata": {},
   "outputs": [
    {
     "data": {
      "text/plain": [
       "array(['No', 'Yes'], dtype=object)"
      ]
     },
     "execution_count": 130,
     "metadata": {},
     "output_type": "execute_result"
    }
   ],
   "source": [
    "# Look at the unique values again for ordinal encoding purposes\n",
    "df1.Churn.unique()"
   ]
  },
  {
   "cell_type": "code",
   "execution_count": 131,
   "id": "1e6d19ee",
   "metadata": {},
   "outputs": [],
   "source": [
    "# Create a new variable for encoding\n",
    "df1['churn_numeric'] = df1['Churn']"
   ]
  },
  {
   "cell_type": "code",
   "execution_count": 132,
   "id": "18a4a1e3",
   "metadata": {},
   "outputs": [],
   "source": [
    "# Create a dictionary for converting categorical values to numeric\n",
    "dict_churn = {'churn_numeric': \n",
    "            {'No': 0,\n",
    "            'Yes': 1}}"
   ]
  },
  {
   "cell_type": "code",
   "execution_count": 133,
   "id": "923dbf33",
   "metadata": {},
   "outputs": [],
   "source": [
    "# Put the new encoded variable into the dataframe\n",
    "df1.replace(dict_churn, inplace=True)"
   ]
  },
  {
   "cell_type": "code",
   "execution_count": 134,
   "id": "b2d93a31",
   "metadata": {},
   "outputs": [
    {
     "data": {
      "text/plain": [
       "array([0, 1], dtype=int64)"
      ]
     },
     "execution_count": 134,
     "metadata": {},
     "output_type": "execute_result"
    }
   ],
   "source": [
    "# Check to make sure it is numeric\n",
    "df1.churn_numeric.unique()"
   ]
  },
  {
   "cell_type": "code",
   "execution_count": 135,
   "id": "4c44316a",
   "metadata": {},
   "outputs": [
    {
     "data": {
      "text/plain": [
       "array(['Fiber Optic', 'DSL', 'None'], dtype=object)"
      ]
     },
     "execution_count": 135,
     "metadata": {},
     "output_type": "execute_result"
    }
   ],
   "source": [
    "# Look at the unique values again for ordinal encoding purposes\n",
    "df1.InternetService.unique()"
   ]
  },
  {
   "cell_type": "code",
   "execution_count": 136,
   "id": "233126c2",
   "metadata": {},
   "outputs": [],
   "source": [
    "# Create a new variable for encoding\n",
    "df1['int_serv_numeric'] = df1['InternetService']"
   ]
  },
  {
   "cell_type": "code",
   "execution_count": 137,
   "id": "5968c127",
   "metadata": {},
   "outputs": [],
   "source": [
    "# Create a dictionary for converting categorical values to numeric\n",
    "dict_int_serv = {'int_serv_numeric': \n",
    "            {'None': 0,\n",
    "            'DSL': 1,\n",
    "            'Fiber Optic': 2}}"
   ]
  },
  {
   "cell_type": "code",
   "execution_count": 138,
   "id": "6e917f7e",
   "metadata": {},
   "outputs": [],
   "source": [
    "# Put the new encoded variable into the dataframe\n",
    "df1.replace(dict_int_serv, inplace=True)"
   ]
  },
  {
   "cell_type": "code",
   "execution_count": 139,
   "id": "04592b21",
   "metadata": {},
   "outputs": [
    {
     "data": {
      "text/plain": [
       "array([2, 1, 0], dtype=int64)"
      ]
     },
     "execution_count": 139,
     "metadata": {},
     "output_type": "execute_result"
    }
   ],
   "source": [
    "# Check to make sure it is numeric\n",
    "df1.int_serv_numeric.unique()"
   ]
  },
  {
   "cell_type": "code",
   "execution_count": 140,
   "id": "f2f8c554",
   "metadata": {},
   "outputs": [
    {
     "name": "stdout",
     "output_type": "stream",
     "text": [
      "(10000, 52)\n"
     ]
    }
   ],
   "source": [
    "# Check shape of original df for comparison\n",
    "print(df.shape)"
   ]
  },
  {
   "cell_type": "code",
   "execution_count": 141,
   "id": "085911fe",
   "metadata": {},
   "outputs": [
    {
     "name": "stdout",
     "output_type": "stream",
     "text": [
      "(9989, 60)\n"
     ]
    }
   ],
   "source": [
    "# Check shape of df1 to show that there are now more variables\n",
    "print(df1.shape)"
   ]
  },
  {
   "cell_type": "code",
   "execution_count": 142,
   "id": "3dc4b162",
   "metadata": {},
   "outputs": [
    {
     "name": "stdout",
     "output_type": "stream",
     "text": [
      "<class 'pandas.core.frame.DataFrame'>\n",
      "Int64Index: 9989 entries, 0 to 9999\n",
      "Data columns (total 60 columns):\n",
      " #   Column                Non-Null Count  Dtype  \n",
      "---  ------                --------------  -----  \n",
      " 0   Unnamed: 0            9989 non-null   int64  \n",
      " 1   CaseOrder             9989 non-null   int64  \n",
      " 2   Customer_id           9989 non-null   object \n",
      " 3   Interaction           9989 non-null   object \n",
      " 4   City                  9989 non-null   object \n",
      " 5   State                 9989 non-null   object \n",
      " 6   County                9989 non-null   object \n",
      " 7   Zip                   9989 non-null   int64  \n",
      " 8   Lat                   9989 non-null   float64\n",
      " 9   Lng                   9989 non-null   float64\n",
      " 10  Population            9989 non-null   int64  \n",
      " 11  Area                  9989 non-null   object \n",
      " 12  Timezone              9989 non-null   object \n",
      " 13  Job                   9989 non-null   object \n",
      " 14  Children              9989 non-null   float64\n",
      " 15  Age                   9989 non-null   float64\n",
      " 16  Education             9989 non-null   object \n",
      " 17  Employment            9989 non-null   object \n",
      " 18  Income                9989 non-null   float64\n",
      " 19  Marital               9989 non-null   object \n",
      " 20  Gender                9989 non-null   object \n",
      " 21  Churn                 9989 non-null   object \n",
      " 22  Outage_sec_perweek    9989 non-null   float64\n",
      " 23  Email                 9989 non-null   int64  \n",
      " 24  Contacts              9989 non-null   int64  \n",
      " 25  Yearly_equip_failure  9989 non-null   int64  \n",
      " 26  Techie                9989 non-null   object \n",
      " 27  Contract              9989 non-null   object \n",
      " 28  Port_modem            9989 non-null   object \n",
      " 29  Tablet                9989 non-null   object \n",
      " 30  InternetService       9989 non-null   object \n",
      " 31  Phone                 9989 non-null   object \n",
      " 32  Multiple              9989 non-null   object \n",
      " 33  OnlineSecurity        9989 non-null   object \n",
      " 34  OnlineBackup          9989 non-null   object \n",
      " 35  DeviceProtection      9989 non-null   object \n",
      " 36  TechSupport           9989 non-null   object \n",
      " 37  StreamingTV           9989 non-null   object \n",
      " 38  StreamingMovies       9989 non-null   object \n",
      " 39  PaperlessBilling      9989 non-null   object \n",
      " 40  PaymentMethod         9989 non-null   object \n",
      " 41  Tenure                9989 non-null   float64\n",
      " 42  MonthlyCharge         9989 non-null   float64\n",
      " 43  Bandwidth_GB_Year     9989 non-null   float64\n",
      " 44  item1                 9989 non-null   int64  \n",
      " 45  item2                 9989 non-null   int64  \n",
      " 46  item3                 9989 non-null   int64  \n",
      " 47  item4                 9989 non-null   int64  \n",
      " 48  item5                 9989 non-null   int64  \n",
      " 49  item6                 9989 non-null   int64  \n",
      " 50  item7                 9989 non-null   int64  \n",
      " 51  item8                 9989 non-null   int64  \n",
      " 52  Z_children            9989 non-null   float64\n",
      " 53  Z_age                 9989 non-null   float64\n",
      " 54  Z_income              9989 non-null   float64\n",
      " 55  Z_outage              9989 non-null   float64\n",
      " 56  education_numeric     9989 non-null   int64  \n",
      " 57  employment_numeric    9989 non-null   int64  \n",
      " 58  churn_numeric         9989 non-null   int64  \n",
      " 59  int_serv_numeric      9989 non-null   int64  \n",
      "dtypes: float64(13), int64(19), object(28)\n",
      "memory usage: 4.6+ MB\n",
      "None\n"
     ]
    }
   ],
   "source": [
    "# Check the info again for the new variables\n",
    "print(df1.info())"
   ]
  },
  {
   "cell_type": "code",
   "execution_count": 143,
   "id": "32412ab3",
   "metadata": {},
   "outputs": [],
   "source": [
    "# Specify variables used to perform PCA\n",
    "df1_pca = df1[['Age', 'Income', 'Outage_sec_perweek',\n",
    "               'Tenure', 'MonthlyCharge', 'Bandwidth_GB_Year']]"
   ]
  },
  {
   "cell_type": "code",
   "execution_count": 144,
   "id": "cd665258",
   "metadata": {},
   "outputs": [],
   "source": [
    "# Normalizing data in preparation for PCA\n",
    "df1_pca_normalized = (df1_pca - df1_pca.mean()) / df1_pca.std()"
   ]
  },
  {
   "cell_type": "code",
   "execution_count": 145,
   "id": "5a0b8bfc",
   "metadata": {},
   "outputs": [
    {
     "data": {
      "text/html": [
       "<div>\n",
       "<style scoped>\n",
       "    .dataframe tbody tr th:only-of-type {\n",
       "        vertical-align: middle;\n",
       "    }\n",
       "\n",
       "    .dataframe tbody tr th {\n",
       "        vertical-align: top;\n",
       "    }\n",
       "\n",
       "    .dataframe thead th {\n",
       "        text-align: right;\n",
       "    }\n",
       "</style>\n",
       "<table border=\"1\" class=\"dataframe\">\n",
       "  <thead>\n",
       "    <tr style=\"text-align: right;\">\n",
       "      <th></th>\n",
       "      <th>Age</th>\n",
       "      <th>Income</th>\n",
       "      <th>Outage_sec_perweek</th>\n",
       "      <th>Tenure</th>\n",
       "      <th>MonthlyCharge</th>\n",
       "      <th>Bandwidth_GB_Year</th>\n",
       "    </tr>\n",
       "  </thead>\n",
       "  <tbody>\n",
       "    <tr>\n",
       "      <th>0</th>\n",
       "      <td>0.806262</td>\n",
       "      <td>-0.462730</td>\n",
       "      <td>-0.640264</td>\n",
       "      <td>-1.053815</td>\n",
       "      <td>-0.060627</td>\n",
       "      <td>-1.143268</td>\n",
       "    </tr>\n",
       "    <tr>\n",
       "      <th>1</th>\n",
       "      <td>-1.430189</td>\n",
       "      <td>-0.741833</td>\n",
       "      <td>0.078128</td>\n",
       "      <td>-1.267963</td>\n",
       "      <td>1.589481</td>\n",
       "      <td>-1.190846</td>\n",
       "    </tr>\n",
       "    <tr>\n",
       "      <th>2</th>\n",
       "      <td>-0.175595</td>\n",
       "      <td>0.000214</td>\n",
       "      <td>-0.173912</td>\n",
       "      <td>-0.713589</td>\n",
       "      <td>-0.337791</td>\n",
       "      <td>-0.614817</td>\n",
       "    </tr>\n",
       "    <tr>\n",
       "      <th>3</th>\n",
       "      <td>-0.284690</td>\n",
       "      <td>-0.854966</td>\n",
       "      <td>0.532882</td>\n",
       "      <td>-0.662962</td>\n",
       "      <td>-1.242278</td>\n",
       "      <td>-0.564335</td>\n",
       "    </tr>\n",
       "    <tr>\n",
       "      <th>4</th>\n",
       "      <td>1.624476</td>\n",
       "      <td>0.005840</td>\n",
       "      <td>-0.357045</td>\n",
       "      <td>-1.248431</td>\n",
       "      <td>-0.538098</td>\n",
       "      <td>-1.434122</td>\n",
       "    </tr>\n",
       "    <tr>\n",
       "      <th>...</th>\n",
       "      <td>...</td>\n",
       "      <td>...</td>\n",
       "      <td>...</td>\n",
       "      <td>...</td>\n",
       "      <td>...</td>\n",
       "      <td>...</td>\n",
       "    </tr>\n",
       "    <tr>\n",
       "      <th>9995</th>\n",
       "      <td>-0.652978</td>\n",
       "      <td>0.642808</td>\n",
       "      <td>-0.313577</td>\n",
       "      <td>1.278057</td>\n",
       "      <td>-0.328827</td>\n",
       "      <td>1.432764</td>\n",
       "    </tr>\n",
       "    <tr>\n",
       "      <th>9996</th>\n",
       "      <td>-0.284690</td>\n",
       "      <td>-0.000443</td>\n",
       "      <td>-0.477367</td>\n",
       "      <td>1.006262</td>\n",
       "      <td>0.802681</td>\n",
       "      <td>1.058170</td>\n",
       "    </tr>\n",
       "    <tr>\n",
       "      <th>9997</th>\n",
       "      <td>0.312743</td>\n",
       "      <td>0.000160</td>\n",
       "      <td>-0.944446</td>\n",
       "      <td>0.456288</td>\n",
       "      <td>-0.135146</td>\n",
       "      <td>0.352151</td>\n",
       "    </tr>\n",
       "    <tr>\n",
       "      <th>9998</th>\n",
       "      <td>-0.775618</td>\n",
       "      <td>-0.946857</td>\n",
       "      <td>0.086951</td>\n",
       "      <td>1.388134</td>\n",
       "      <td>1.812900</td>\n",
       "      <td>1.413101</td>\n",
       "    </tr>\n",
       "    <tr>\n",
       "      <th>9999</th>\n",
       "      <td>-1.375641</td>\n",
       "      <td>-0.000085</td>\n",
       "      <td>0.167496</td>\n",
       "      <td>1.094009</td>\n",
       "      <td>1.022268</td>\n",
       "      <td>1.132433</td>\n",
       "    </tr>\n",
       "  </tbody>\n",
       "</table>\n",
       "<p>9989 rows × 6 columns</p>\n",
       "</div>"
      ],
      "text/plain": [
       "           Age    Income  Outage_sec_perweek    Tenure  MonthlyCharge  \\\n",
       "0     0.806262 -0.462730           -0.640264 -1.053815      -0.060627   \n",
       "1    -1.430189 -0.741833            0.078128 -1.267963       1.589481   \n",
       "2    -0.175595  0.000214           -0.173912 -0.713589      -0.337791   \n",
       "3    -0.284690 -0.854966            0.532882 -0.662962      -1.242278   \n",
       "4     1.624476  0.005840           -0.357045 -1.248431      -0.538098   \n",
       "...        ...       ...                 ...       ...            ...   \n",
       "9995 -0.652978  0.642808           -0.313577  1.278057      -0.328827   \n",
       "9996 -0.284690 -0.000443           -0.477367  1.006262       0.802681   \n",
       "9997  0.312743  0.000160           -0.944446  0.456288      -0.135146   \n",
       "9998 -0.775618 -0.946857            0.086951  1.388134       1.812900   \n",
       "9999 -1.375641 -0.000085            0.167496  1.094009       1.022268   \n",
       "\n",
       "      Bandwidth_GB_Year  \n",
       "0             -1.143268  \n",
       "1             -1.190846  \n",
       "2             -0.614817  \n",
       "3             -0.564335  \n",
       "4             -1.434122  \n",
       "...                 ...  \n",
       "9995           1.432764  \n",
       "9996           1.058170  \n",
       "9997           0.352151  \n",
       "9998           1.413101  \n",
       "9999           1.132433  \n",
       "\n",
       "[9989 rows x 6 columns]"
      ]
     },
     "execution_count": 145,
     "metadata": {},
     "output_type": "execute_result"
    }
   ],
   "source": [
    "# Take a look at the normalized data\n",
    "df1_pca_normalized"
   ]
  },
  {
   "cell_type": "code",
   "execution_count": 146,
   "id": "be9f9c75",
   "metadata": {},
   "outputs": [
    {
     "data": {
      "image/png": "[encoded data removed]",
      "text/plain": [
       "<Figure size 432x288 with 1 Axes>"
      ]
     },
     "metadata": {
      "needs_background": "light"
     },
     "output_type": "display_data"
    }
   ],
   "source": [
    "# Check it on the histogram\n",
    "plt.hist(df1_pca_normalized['Age'])\n",
    "plt.show()"
   ]
  },
  {
   "cell_type": "code",
   "execution_count": 147,
   "id": "28810a24",
   "metadata": {},
   "outputs": [],
   "source": [
    "# Identify the number of PCs you want extracted\n",
    "pca = PCA(n_components = df1_pca_normalized.shape[1])"
   ]
  },
  {
   "cell_type": "code",
   "execution_count": 148,
   "id": "6470f55b",
   "metadata": {},
   "outputs": [
    {
     "data": {
      "text/plain": [
       "PCA(n_components=6)"
      ]
     },
     "execution_count": 148,
     "metadata": {},
     "output_type": "execute_result"
    }
   ],
   "source": [
    "# Fit it and output how many PCs or components\n",
    "pca.fit(df1_pca_normalized)"
   ]
  },
  {
   "cell_type": "code",
   "execution_count": 149,
   "id": "367a0d0f",
   "metadata": {},
   "outputs": [],
   "source": [
    "# Apply the PCA\n",
    "df1_pca2 = pd.DataFrame(pca.transform(df1_pca_normalized),\n",
    "                       columns=['PC1', 'PC2', 'PC3', 'PC4', 'PC5', 'PC6'])"
   ]
  },
  {
   "cell_type": "code",
   "execution_count": 150,
   "id": "bcd93a5d",
   "metadata": {},
   "outputs": [
    {
     "data": {
      "text/html": [
       "<div>\n",
       "<style scoped>\n",
       "    .dataframe tbody tr th:only-of-type {\n",
       "        vertical-align: middle;\n",
       "    }\n",
       "\n",
       "    .dataframe tbody tr th {\n",
       "        vertical-align: top;\n",
       "    }\n",
       "\n",
       "    .dataframe thead th {\n",
       "        text-align: right;\n",
       "    }\n",
       "</style>\n",
       "<table border=\"1\" class=\"dataframe\">\n",
       "  <thead>\n",
       "    <tr style=\"text-align: right;\">\n",
       "      <th></th>\n",
       "      <th>PC1</th>\n",
       "      <th>PC2</th>\n",
       "      <th>PC3</th>\n",
       "      <th>PC4</th>\n",
       "      <th>PC5</th>\n",
       "      <th>PC6</th>\n",
       "    </tr>\n",
       "  </thead>\n",
       "  <tbody>\n",
       "    <tr>\n",
       "      <th>Age</th>\n",
       "      <td>-0.010296</td>\n",
       "      <td>-0.061768</td>\n",
       "      <td>-0.870242</td>\n",
       "      <td>0.463163</td>\n",
       "      <td>0.153146</td>\n",
       "      <td>0.028004</td>\n",
       "    </tr>\n",
       "    <tr>\n",
       "      <th>Income</th>\n",
       "      <td>0.002916</td>\n",
       "      <td>0.002128</td>\n",
       "      <td>0.461135</td>\n",
       "      <td>0.885523</td>\n",
       "      <td>-0.056475</td>\n",
       "      <td>-0.001183</td>\n",
       "    </tr>\n",
       "    <tr>\n",
       "      <th>Outage_sec_perweek</th>\n",
       "      <td>0.020308</td>\n",
       "      <td>0.708259</td>\n",
       "      <td>0.075187</td>\n",
       "      <td>0.003831</td>\n",
       "      <td>0.701608</td>\n",
       "      <td>0.005894</td>\n",
       "    </tr>\n",
       "    <tr>\n",
       "      <th>Tenure</th>\n",
       "      <td>0.705391</td>\n",
       "      <td>-0.054110</td>\n",
       "      <td>-0.015738</td>\n",
       "      <td>0.007725</td>\n",
       "      <td>0.041775</td>\n",
       "      <td>-0.705296</td>\n",
       "    </tr>\n",
       "    <tr>\n",
       "      <th>MonthlyCharge</th>\n",
       "      <td>0.044686</td>\n",
       "      <td>0.701062</td>\n",
       "      <td>-0.155102</td>\n",
       "      <td>0.034731</td>\n",
       "      <td>-0.692180</td>\n",
       "      <td>-0.046249</td>\n",
       "    </tr>\n",
       "    <tr>\n",
       "      <th>Bandwidth_GB_Year</th>\n",
       "      <td>0.707035</td>\n",
       "      <td>-0.011576</td>\n",
       "      <td>0.008770</td>\n",
       "      <td>-0.006919</td>\n",
       "      <td>-0.015619</td>\n",
       "      <td>0.706823</td>\n",
       "    </tr>\n",
       "  </tbody>\n",
       "</table>\n",
       "</div>"
      ],
      "text/plain": [
       "                         PC1       PC2       PC3       PC4       PC5       PC6\n",
       "Age                -0.010296 -0.061768 -0.870242  0.463163  0.153146  0.028004\n",
       "Income              0.002916  0.002128  0.461135  0.885523 -0.056475 -0.001183\n",
       "Outage_sec_perweek  0.020308  0.708259  0.075187  0.003831  0.701608  0.005894\n",
       "Tenure              0.705391 -0.054110 -0.015738  0.007725  0.041775 -0.705296\n",
       "MonthlyCharge       0.044686  0.701062 -0.155102  0.034731 -0.692180 -0.046249\n",
       "Bandwidth_GB_Year   0.707035 -0.011576  0.008770 -0.006919 -0.015619  0.706823"
      ]
     },
     "execution_count": 150,
     "metadata": {},
     "output_type": "execute_result"
    }
   ],
   "source": [
    "# Create loadings\n",
    "loadings = pd.DataFrame(pca.components_.T,\n",
    "                       columns = ['PC1', 'PC2', 'PC3', 'PC4', 'PC5', 'PC6'],\n",
    "                       index = df1_pca_normalized.columns)\n",
    "\n",
    "# View the output of the loadings\n",
    "loadings"
   ]
  },
  {
   "cell_type": "code",
   "execution_count": 151,
   "id": "f5fa46c7",
   "metadata": {},
   "outputs": [],
   "source": [
    "# Create covariance matrix and eigenvalues\n",
    "cov_matrix = np.dot(df1_pca_normalized.T, df1_pca_normalized) / df1_pca.shape[0]\n",
    "eigenvalues = [np.dot(eigenvector.T, np.dot(cov_matrix, eigenvector)) for eigenvector in pca.components_]"
   ]
  },
  {
   "cell_type": "code",
   "execution_count": 152,
   "id": "87ab2047",
   "metadata": {},
   "outputs": [
    {
     "data": {
      "image/png": "[encoded data removed]",
      "text/plain": [
       "<Figure size 432x288 with 1 Axes>"
      ]
     },
     "metadata": {
      "needs_background": "light"
     },
     "output_type": "display_data"
    }
   ],
   "source": [
    "# Create scree plot\n",
    "plt.plot(eigenvalues)\n",
    "plt.xlabel('number of components')\n",
    "plt.ylabel('eigenvalues')\n",
    "plt.show()"
   ]
  }
 ],
 "metadata": {
  "kernelspec": {
   "display_name": "Python 3 (ipykernel)",
   "language": "python",
   "name": "python3"
  },
  "language_info": {
   "codemirror_mode": {
    "name": "ipython",
    "version": 3
   },
   "file_extension": ".py",
   "mimetype": "text/x-python",
   "name": "python",
   "nbconvert_exporter": "python",
   "pygments_lexer": "ipython3",
   "version": "3.9.13"
  }
 },
 "nbformat": 4,
 "nbformat_minor": 5
}
